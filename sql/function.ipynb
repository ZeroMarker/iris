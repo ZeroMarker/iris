{
 "cells": [
  {
   "cell_type": "code",
   "execution_count": null,
   "metadata": {
    "vscode": {
     "languageId": "sql"
    }
   },
   "outputs": [],
   "source": [
    "-- SQL Function\n",
    "select * from dhc_cardref WHERE CHAR_LENGTH(CF_CardNo) > 20;\n",
    "\n",
    "select * from dhc_cardref WHERE datalength(CF_CardNo) > 20;\n",
    "\n",
    "select * from DHCQueue where QueDate = {fn CURDATE()} ;\n",
    "\n",
    "select * from DHCQueue where quedate = current_date - 1;"
   ]
  },
  {
   "cell_type": "code",
   "execution_count": null,
   "metadata": {
    "vscode": {
     "languageId": "objectscript-class"
    }
   },
   "outputs": [],
   "source": [
    "s dispqty=$SYSTEM.SQL.CEILING(dispqty)"
   ]
  }
 ],
 "metadata": {
  "language_info": {
   "name": "python"
  }
 },
 "nbformat": 4,
 "nbformat_minor": 2
}
