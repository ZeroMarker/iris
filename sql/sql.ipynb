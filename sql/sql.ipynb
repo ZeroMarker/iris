{
 "cells": [
  {
   "cell_type": "code",
   "execution_count": null,
   "metadata": {
    "vscode": {
     "languageId": "sql"
    }
   },
   "outputs": [],
   "source": [
    "-- @基础字典\n",
    "SELECT * \n",
    "FROM SQLUser.CT_Sex;\n",
    "-- 性别\n",
    "\n",
    "-- @Block\n",
    "Select * \n",
    "FROM SQLUser.CT_Address;\n",
    "-- 地址\n",
    "\n",
    "-- @Block\n",
    "SELECT * \n",
    "from SQLUser.CT_Hospital;\n",
    "-- 医院\n",
    "\n",
    "-- @Block\n",
    "SELECT * \n",
    "FROM SqlUser.OEC_Priority;\n",
    "-- 医嘱类型 自备药长期\n",
    "\n",
    "SELECT *\n",
    "FROM websys.menu\n",
    "-- where ID = 57618;\n",
    "where caption like \"挂号\";\n",
    "\n",
    "select *\n",
    "from websys.WorkFlowItemDefinition\n",
    "--where Url like \"%&%\";\n",
    "WHERE ID = 50001;\n",
    "\n",
    "select * from PHC_Freq ;\n",
    "select * from PHC_DispensingTime;\n",
    "-- 频次 分发时间"
   ]
  },
  {
   "cell_type": "code",
   "execution_count": null,
   "metadata": {
    "vscode": {
     "languageId": "sql"
    }
   },
   "outputs": [],
   "source": [
    "-- @患者\n",
    "-- @Block\n",
    "SELECT * \n",
    "FROM SQLUser.PA_PatMas;\n",
    "-- 病人信息"
   ]
  },
  {
   "cell_type": "code",
   "execution_count": null,
   "metadata": {
    "vscode": {
     "languageId": "sql"
    }
   },
   "outputs": [],
   "source": [
    "-- @医嘱\n",
    "select * from ARC_OrdSetDate;\n",
    "select * from ARC_OrdSets where ARCOS_RowId1 = 242;\n",
    "select * from ARC_OrdSetDateItem where ARC_OrdSetDateItem.ITM_ParRef = \"242||1\";\n",
    "-- 医嘱套\n",
    "\n",
    "-- 医嘱执行记录\n",
    "SELECT OEORE_Order_Status_DR ,OEORE_ExStTime ,* FROM oe_ordExec \n",
    "where OEORE_OEORI_ParRef ->OEORI_Childsub>70 \n",
    "and OEORE_OEORI_ParRef ->OEORI_OEORD_ParRef = 1;\n",
    "\n",
    "select * from OE_OrdExecStatus;\n",
    "\n",
    "select * from V_OE_OrdItem ;"
   ]
  },
  {
   "cell_type": "code",
   "execution_count": null,
   "metadata": {
    "vscode": {
     "languageId": "sql"
    }
   },
   "outputs": [],
   "source": [
    "-- @就诊\n",
    "select * from PA_Adm"
   ]
  },
  {
   "cell_type": "code",
   "execution_count": null,
   "metadata": {
    "vscode": {
     "languageId": "sql"
    }
   },
   "outputs": [],
   "source": []
  },
  {
   "cell_type": "code",
   "execution_count": null,
   "metadata": {
    "vscode": {
     "languageId": "sql"
    }
   },
   "outputs": [],
   "source": [
    "-- @挂号\n",
    "-- @队列\n",
    "select * from DHCQueue where DHCQueue.QueStateDr = 5 and QueDate = {fn CURDATE()};\n",
    "\n",
    "select * from DHCPerState;\n",
    "\n",
    "select * from dhc_timerange;\n",
    "\n",
    "select * from dhcregistrationfee;\n",
    "\n",
    "select * from rb_appointment;\n",
    "\n",
    "-- @Block\n",
    "select RegfeeTimeRangeDr\n",
    "from SQLUser.DHCRegistrationFee\n",
    "where RegfeeAdmDr = AdmId;\n",
    "-- 挂号 时段\n"
   ]
  },
  {
   "cell_type": "code",
   "execution_count": null,
   "metadata": {
    "vscode": {
     "languageId": "sql"
    }
   },
   "outputs": [],
   "source": [
    "-- @科室\n",
    "select * from rbc_departmentgroup;\n",
    "select CTLOC_Dep_DR ,* from CT_Loc ;"
   ]
  },
  {
   "cell_type": "code",
   "execution_count": null,
   "metadata": {
    "vscode": {
     "languageId": "sql"
    }
   },
   "outputs": [],
   "source": [
    "-- @排班\n",
    "select * from RB_Resource;\n",
    "select * from RB_ResEffDate;\n",
    "SELECT * from DHC_RBApptSchedule;\n",
    "select * from DHC_TimeRange;\n",
    "select * from CT_LockSchedule;\n"
   ]
  },
  {
   "cell_type": "code",
   "execution_count": null,
   "metadata": {
    "vscode": {
     "languageId": "sql"
    }
   },
   "outputs": [],
   "source": [
    "-- @诊断\n",
    "SELECT * FROM \n",
    "MR_Diagnos;\n",
    "SELECT *\n",
    "from MR_DiagType;\n",
    "SELECT *\n",
    "from MRC_DiagnosType;\n",
    "SELECT * FROM MR_Adm;\n",
    "SELECT * FROM MRC_ICDDx \n",
    "-- 诊断类型 诊断 ICD"
   ]
  },
  {
   "cell_type": "code",
   "execution_count": null,
   "metadata": {
    "vscode": {
     "languageId": "sql"
    }
   },
   "outputs": [],
   "source": [
    "-- @读卡\n",
    "select * from DHC_CardHardComManager ;\n",
    "\n",
    "select * from DHC_CardHardComGroup ;\n",
    "-- 设备"
   ]
  },
  {
   "cell_type": "code",
   "execution_count": null,
   "metadata": {
    "vscode": {
     "languageId": "sql"
    }
   },
   "outputs": [],
   "source": [
    "-- @治疗\n",
    "-- @Block\n",
    "SELECT DCA_Adm_DR->PAADM_PAPMI_DR->PAPMI_Name,* \n",
    "FROM SQLUser.DHC_DocCureApp;\n",
    "-- 治疗记录申请表"
   ]
  },
  {
   "cell_type": "code",
   "execution_count": null,
   "metadata": {
    "vscode": {
     "languageId": "sql"
    }
   },
   "outputs": [],
   "source": [
    "-- @药品\n",
    "-- @Block\n",
    "SELECT TOP 20 * \n",
    "FROM PHC_DrgMast\n",
    "WHERE PHCD_Code = 4567897654;\n",
    "-- 药品\n",
    "\n",
    "-- @Block\n",
    "SELECT TOP 20 * \n",
    "FROM ARC_ItmMast\n",
    "WHERE ARCIM_Code = 4567897654;\n",
    "-- 医嘱项\n",
    "-- @Block\n",
    "SELECT TOP 20 * \n",
    "FROM INC_Itm \n",
    "WHERE INCI_Code = 4567897654;\n",
    "-- Inventory\n",
    "-- 库存项\n",
    "\n",
    "select * from PHC_DrgForm;\n",
    "select PHCD_PHCPO_DR,* from PHC_DrgMast WHERE PHCD_PHCPO_DR is not null;\n",
    "select * from PHC_Poison;\n",
    "\n",
    "-- 接收科室\n",
    "select * from ARC_ItemCatRecLoc \n",
    "where RL_ParRef = 198 and RL_RecLoc_DR = 516\n",
    "--and RL_OrdLoc_DR = 474;\n",
    ";\n"
   ]
  },
  {
   "cell_type": "code",
   "execution_count": null,
   "metadata": {
    "vscode": {
     "languageId": "sql"
    }
   },
   "outputs": [],
   "source": [
    "-- @平台\n",
    "SELECT *\n",
    "FROM Ens_InterfaceMethod\n",
    "WHERE method_code like \"%UpdateSystemStatus%\"\n",
    "SELECT ES_PreStatusCode, ES_StatusCode,*\n",
    "FROM SqlUser.Ens_Statuslog\n",
    "where ES_ExamID like \"%EKG1041%\";\n",
    "\n",
    "SELECT *\n",
    "from Ens_StatusCode;\n",
    "\n",
    "SELECT *\n",
    "FROM Ens_Status\n",
    "WHERE ES_ExamID like \"EKG1041%\";\n",
    "select transfer_Input ,* from Ens_InterfaceV8 order by 1 desc;\n",
    "-- 平台日志\n",
    "\n",
    "SELECT * from Doc_InterfaceMethod;\n",
    "-- 医生站接口"
   ]
  },
  {
   "cell_type": "code",
   "execution_count": null,
   "metadata": {
    "vscode": {
     "languageId": "sql"
    }
   },
   "outputs": [],
   "source": [
    "-- @检查\n",
    "select * from DHC_AppRepPart ;\n",
    "select * from DHC_AppRepPos ;\n",
    "-- 部位\n",
    "-- 体位\n",
    "select * from DHC_AppPosition ;\n",
    "select * from DHC_AppPart ;\n",
    "select * from DHC_AppRepTarItm;"
   ]
  },
  {
   "cell_type": "code",
   "execution_count": null,
   "metadata": {
    "vscode": {
     "languageId": "sql"
    }
   },
   "outputs": [],
   "source": [
    "-- @error\n",
    "SELECT * FROM DHCDoc_ErrCodeRegister;\n",
    "-- 医生站错误代码"
   ]
  },
  {
   "cell_type": "code",
   "execution_count": null,
   "metadata": {
    "vscode": {
     "languageId": "sql"
    }
   },
   "outputs": [],
   "source": [
    "-- @慢病\n",
    "select HospitalNo ,* from insuqc_po_ch.DiagDic where Code = \"M04803\";"
   ]
  },
  {
   "cell_type": "code",
   "execution_count": null,
   "metadata": {
    "vscode": {
     "languageId": "sql"
    }
   },
   "outputs": [],
   "source": [
    "-- @模板\n",
    "select * from DHC_AppPrtTemp;"
   ]
  },
  {
   "cell_type": "code",
   "execution_count": null,
   "metadata": {
    "vscode": {
     "languageId": "sql"
    }
   },
   "outputs": [],
   "source": [
    "-- @需处理\n",
    "select * from Nur.NeedCareOrderSet;"
   ]
  },
  {
   "cell_type": "code",
   "execution_count": null,
   "metadata": {
    "vscode": {
     "languageId": "sql"
    }
   },
   "outputs": [],
   "source": [
    "-- @医保\n",
    "\n",
    "select INTIM_tjdm, count(*) from INSU_TarItems\n",
    "group by INTIM_tjdm;\n",
    "select INTIM_xmlb, count(*) from INSU_TarItems\n",
    "group by INTIM_xmlb;\n",
    "select INTIM_xmlb, * from INSU_TarItems\n",
    "where INTIM_xmlb = \"药品\";"
   ]
  },
  {
   "cell_type": "code",
   "execution_count": null,
   "metadata": {
    "vscode": {
     "languageId": "sql"
    }
   },
   "outputs": [],
   "source": [
    "-- @黑名单\n",
    "DELETE from DHC_PapersonBlackList ;"
   ]
  },
  {
   "cell_type": "code",
   "execution_count": null,
   "metadata": {
    "vscode": {
     "languageId": "sql"
    }
   },
   "outputs": [],
   "source": [
    "-- @检查树\n",
    "select * from DHC_AppTreeGroup ;\n",
    "select * from DHC_AppTreeLink;\n",
    "select TRA_Hosp_Dr ,* from DHC_AppTreeAdd WHERE TRA_Code = \"彩超\";"
   ]
  },
  {
   "cell_type": "code",
   "execution_count": null,
   "metadata": {
    "vscode": {
     "languageId": "sql"
    }
   },
   "outputs": [],
   "source": [
    "-- @日志\n",
    "select * from dhcdoc_log.common where InsertDate = current_date;\n",
    "\n",
    "select * from DHC_StkSysErrorRecord where DHCSTER_Date = current_date;"
   ]
  }
 ],
 "metadata": {
  "language_info": {
   "name": "python"
  }
 },
 "nbformat": 4,
 "nbformat_minor": 2
}
