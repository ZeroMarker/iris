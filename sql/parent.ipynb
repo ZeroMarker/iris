{
 "cells": [
  {
   "cell_type": "code",
   "execution_count": null,
   "metadata": {
    "vscode": {
     "languageId": "objectscript"
    }
   },
   "outputs": [],
   "source": [
    "/// 子表建立关系\n",
    "Relationship DHCScParRef As DHCStudentGXA [ Cardinality = parent, Inverse = ChildScCourse, SqlFieldName = DHC_ScParRef ];\n",
    "\n",
    "/// 创建childsub\n",
    "Property DHCScChildSub As %Numeric [ InitialExpression = {$i(^DHCCOURSEGX(+$s($d(initvalue):initvalue,1:%d(0)),\"Course\",0))}, Required, SqlColumnNumber = 2, SqlFieldName = DHC_ScChildSub ];\n",
    "\n",
    "\n",
    "/// 定义父表的关系\n",
    "Relationship ChildScCourse As DHCStudentCourse [ Cardinality = children, Inverse = DHCScParRef ];"
   ]
  },
  {
   "cell_type": "code",
   "execution_count": null,
   "metadata": {
    "vscode": {
     "languageId": "objectscript"
    }
   },
   "outputs": [],
   "source": [
    ";;Cache Storage\n",
    "// 父表\n",
    "Relationship ChildCourse As StudentCourse [ Cardinality = children, Inverse = ParRef ];\n",
    "^User.StudentCourseD\n",
    "\n",
    "// 子表\n",
    "Relationship ParRef As Student [ Cardinality = parent, Inverse = ChildCourse, sqlFieldName = \"Student_ParRef\"];\n",
    "Property CourseDR\n",
    "Property Score\n",
    "\n",
    "// Course\n",
    "Property CourseDR\n",
    "\n",
    "INSERT INTO StudentCourse (Student_ParRef, Course_DR, Score)\n",
    "VALUES (1, 2, 90)\n",
    "VALUES (1, 4, 100)\n",
    "\n",
    ";;建立关系后编译产生Storage"
   ]
  },
  {
   "cell_type": "code",
   "execution_count": null,
   "metadata": {
    "vscode": {
     "languageId": "plaintext"
    }
   },
   "outputs": [],
   "source": [
    "%% SQLStorage\n",
    "\n",
    "父子表间的RelationShip定义\n",
    "子表中ChildSub的定义\n",
    "子表中ChildSub的Index定义\n",
    "子表SQLStorage的DataMaster的定义\n",
    "\n",
    "Relationship  copy  改：父表 和子表\n",
    "子表 ChildSub copy  改：sub名称 + InitialExpression (storage 未确定 可以先不修改)\n",
    "子表对 ChildSub 加 index  [ IdKey, PrimaryKey, Unique ]\n",
    "新建一个storage , SQLStoage  去定义主索引\n",
    "DataMap 里 subscripts 去定义Global节点  第一级节点：\n",
    "      {父表.RowId }  {DHC_BStudent.St_RowId}///  最后一级节点是 {ChildSub}\n",
    "DataMap 里 RowId  父表.RowId {L1}     ChildSub {Lx}\n",
    "定义 SqlRowIdName 属性值 注意: SqlIdExpression 不用去定义\n",
    "storage 已经确定，对 ChildSub 修改 InitialExpression:Global 名称 附加节点 \n",
    "\n",
    "父表： \n",
    "Relationship ChildStudentCourse As User.DHCStudentCourse [ Cardinality = children, Inverse = DHCSCStParRef ]\n",
    "子表：\n",
    "Index RowIDBasedIDKeyIndex On DHCSCChildsub [ IdKey, PrimaryKey, Unique ];\n",
    "Relationship DHCSCStParRef As User.DHCStudent [ Cardinality = parent, Inverse = ChildStudentCourse, Required, SqlFieldName = DHCSC_St_ParRef ];\n",
    "\n",
    "Property DHCSCChildsub As %Numeric(SCALE = 0) [ InitialExpression = {$i(^DHCSTUDENT(+$s($d(initvalue):initvalue,1:%d(0)),\"C\",0))}, Required, SqlColumnNumber = 2, SqlFieldName = DHCSC_Childsub ];\n",
    "\n",
    "DataMaster\n",
    "global\n",
    "父表global\n",
    "subscript\n",
    "{Student.St_RowId}\n",
    "\"Course\"\n",
    "{ChildSub}\n",
    "rowid\n",
    "Student.St_RowId    {L1}\n",
    "ChildSub            {L3}\n",
    "\n",
    "sqlRowIdName\n",
    "Sc_RowID\n",
    "{Student.St_RowId}||{ChildSub}\n",
    "\n",
    "IndexCourse\n",
    "^DHCSTUDENT\n",
    "subscript\n",
    "{Student.St_RowId}\n",
    "\"Course\"\n",
    "0\n",
    "\"Course\"\n",
    "{Course_DR}\n",
    "{ChildSub}\n",
    "rowid\n",
    "Student.St_RowId    {L1}\n",
    "ChildSub            {L6}"
   ]
  },
  {
   "cell_type": "markdown",
   "metadata": {},
   "source": [
    "## Child Table CRUD"
   ]
  },
  {
   "cell_type": "code",
   "execution_count": null,
   "metadata": {
    "vscode": {
     "languageId": "objectscript"
    }
   },
   "outputs": [],
   "source": [
    ";; new\n",
    "s obj = ##class(StudentCourse).%New(ParRef)\n",
    "// 新建对象需要传递父表RowId\n",
    "\n",
    "if(obj) {\n",
    "    d obj.ParRefSetObjectId(ParRef)\n",
    "    d obj.CourseDRSetObjectId(CourseDR)\n",
    "    tcommit\n",
    "    s sc=obj.%Save()\n",
    "    if($$$ISOK(sc)) {\n",
    "        s id = obj.%Id()\n",
    "        s result\n",
    "    }\n",
    "    else {\n",
    "        s error = $System.Status.GetErrorText(sc)\n",
    "        s result\n",
    "    }\n",
    "    d obj.%Close()\n",
    "}\n",
    "q result"
   ]
  },
  {
   "cell_type": "code",
   "execution_count": null,
   "metadata": {
    "vscode": {
     "languageId": "objectscript"
    }
   },
   "outputs": [],
   "source": [
    ";; query\n",
    "s id = \"3||6\"\n",
    "s obj=##class(Student).%OpenId(id)\n",
    "\n",
    "if (ParRef'=\"\") {\n",
    "    s ChildSub = 0\n",
    "    for {\n",
    "        s ChildSub = $o(^DHCSTUDNET(ParRef,\"C\",ChildSub))\n",
    "        q:ChildSub=\"\"\n",
    "        s StScRowId=ParRef_\"||\"_ChildSub\n",
    "        s dataStr = $g(^DHCSTUDNET(ParRef,\"C\",ChildSub))\n",
    "    }\n",
    "}\n",
    "else {\n",
    "    s ParRef=0\n",
    "    for {\n",
    "        s ParRef=$o(^DHCSTUDENT(ParRef))\n",
    "        q:ParRef=\"\"\n",
    "        s ChildSub=0\n",
    "        for {\n",
    "            s ChildSub=$o(^DHCSTUDNET(ParRef,\"C\",ChildSub))\n",
    "            q:ChildSub=\"\"\n",
    "            s StScRowId=ParRef_\"||\"_ChildSub\n",
    "            s dataStr = $g(^DHCSTUDNET(ParRef,\"C\",ChildSub))\n",
    "        }\n",
    "    }\n",
    "}"
   ]
  },
  {
   "cell_type": "code",
   "execution_count": null,
   "metadata": {
    "vscode": {
     "languageId": "objectscript"
    }
   },
   "outputs": [],
   "source": [
    ";; save\n",
    "tstart\n",
    "s sc=obj.%Save()\n",
    "if ($$$ISOK(sc)) {\n",
    "    tcommit\n",
    "    s ParRef = obj.%Id()\n",
    "    if (ParRef'=\"\") {\n",
    "        s crsObj = ##class(StudentCourse).%New(ParRef)\n",
    "        // Cache Storage\n",
    "        s scObj = ##class(User.StudentCourse).%New()\n",
    "\t\td scObj.StParRefSetObjectId(id)\n",
    "        \n",
    "        if (crsObj) {\n",
    "            tstart\n",
    "            s coursesc = crsObj.%Save()\n",
    "            if ($$$ISOK(coursesc)) {\n",
    "                tcommit\n",
    "            }\n",
    "            else {\n",
    "                trollback\n",
    "            }\n",
    "            d crsObj.%Close()\n",
    "        }\n",
    "    }\n",
    "}\n",
    "else {\n",
    "    trollback\n",
    "}\n",
    "d obj.%Close()"
   ]
  }
 ],
 "metadata": {
  "language_info": {
   "name": "python"
  }
 },
 "nbformat": 4,
 "nbformat_minor": 2
}
