{
 "cells": [
  {
   "cell_type": "code",
   "execution_count": null,
   "metadata": {
    "vscode": {
     "languageId": "sql"
    }
   },
   "outputs": [],
   "source": [
    "CREATE view OrderView as (\n",
    "select\n",
    "\tOEORI_OEORD_ParRef -> oeord_adm_dr->paadm_papmi_dr->papmi_name as name,\n",
    "\tOEORI_OEORD_ParRef -> oeord_adm_dr->paadm_papmi_dr->papmi_no as regno,\n",
    "\tOEORI_OEORD_ParRef -> oeord_adm_dr->paadm_papmi_dr->papmi_id as idcard,\n",
    "\tOEORI_OEORD_ParRef -> oeord_adm_dr->paadm_papmi_dr as patid,\n",
    "\tOEORI_OEORD_ParRef -> oeord_adm_dr as admid,\n",
    "\tOEORI_ItmMast_DR -> Arcim_desc as drug, \n",
    "\tOEORI_ItemStat_DR->ostat_desc as status, \n",
    "\tOEORI_OEORD_ParRef||OEORI_Childsub As ord,\n",
    "\t* \n",
    "from OE_OrdItem);\n",
    "\n",
    "select * from OrderView where ord = 1111;\n",
    "\n",
    "CREATE view OrderViewCN as (\n",
    "select\n",
    "\tOEORI_OEORD_ParRef -> oeord_adm_dr->paadm_papmi_dr->papmi_name as 姓名,\n",
    "\tOEORI_OEORD_ParRef -> oeord_adm_dr->paadm_papmi_dr->papmi_no as 登记号,\n",
    "\tOEORI_OEORD_ParRef -> oeord_adm_dr->paadm_papmi_dr->papmi_id as 身份证,\n",
    "\tOEORI_OEORD_ParRef -> oeord_adm_dr->paadm_papmi_dr as 患者id,\n",
    "\tOEORI_OEORD_ParRef -> oeord_adm_dr as 就诊id,\n",
    "\tOEORI_ItmMast_DR -> Arcim_desc as 医嘱, \n",
    "\tOEORI_ItemStat_DR->ostat_desc as 状态, \n",
    "\tOEORI_OEORD_ParRef||OEORI_Childsub As 医嘱id,\n",
    "\t* \n",
    "from OE_OrdItem);\n",
    "\n",
    "select 医嘱, * from orderviewcn;\n"
   ]
  },
  {
   "cell_type": "code",
   "execution_count": null,
   "metadata": {
    "vscode": {
     "languageId": "sql"
    }
   },
   "outputs": [],
   "source": [
    "select h.clinic_code patient_id, ---患者编号\n",
    "           h.name patient_name, ---病人姓名\n",
    "           h.dept_code queue_type_source_id,---队列类型编号\n",
    "           '' register_id,---挂号单号或检查单号\n",
    "           0 queue_num ,---队列编号\n",
    "           0 sub_queue_order,---队列级别\n",
    "           '初诊' sub_queue_type,---队列级别名称\n",
    "           h.noon_code time_interval,---午别\n",
    "           h.doct_code doctor_source_id,---医生编号\n",
    "           decode(h.trans_type,'2','1','0') is_deleted,---退号标识\n",
    "          (case\n",
    "         when to_char(h.begin_time,'hh24:mi:ss')<>'00:00:00'  then\n",
    "         h.begin_time\n",
    "         else\n",
    "       to_date(to_char(h.reg_date,'yyyy-mm-dd')| | ' 22:00:00','yyyy-mm-dd hh24:mi:ss')  +h.order_no/18640\n",
    "       end)  fre_date,---时间戳\n",
    "          h.doct_name,---挂号医生姓名\n",
    "          h.doct_code ,--挂号医生编号\n",
    "          h.dept_name, ---挂号科室姓名\n",
    "          h.card_no content --\n",
    "from fin_opr_register;\n",
    "\n",
    "CREATE VIEW Queue_View As\n",
    "SELECT que.QuePaadmDr->PAADM_PAPMI_Dr patient_id,\n",
    "\tque.QueName patient_name, \n",
    "\tque.QueDepDr->CTLoc_Code queue_type_source_id,\n",
    "\tfee.ID register_id,\n",
    "\tque.QueNo queue_num,\n",
    "\tque.QueStateDr -> PersCode sub_queue_order, \n",
    "\tque.QueStateDr ->PersName sub_queue_type,\n",
    "\tfee.RegfeeTimeRangeDr -> TR_Desc time_interval, \n",
    "\tque.QueMarkDr ->CTPCP_Code doctor_source_id, \n",
    "\tadm.PAADM_VisitStatus is_deleted,\n",
    "\tque.QueTime fre_date,\n",
    "\tque.QueMarkDr -> CTPCP_Desc doct_name,\n",
    "\tque.QueMarkDr -> CTPCP_Code doct_code,\n",
    "\tque.QueDepDr->CTLoc_desc dept_name,\n",
    "\text.PAADM_RegCardNo content\n",
    "from DHCQueue que\n",
    "join DHCRegistrationFee fee on que.QuePaadmDr = fee.RegfeeAdmDr \n",
    "join PA_Adm adm on que.QuePaadmDr = adm.PAADM_RowID \n",
    "join PA_AdmExt ext on que.QuePaadmDr = ext.PAADM_RowId \n",
    "where que.QueDate >= {fn CURDATE()} - 150;"
   ]
  },
  {
   "cell_type": "code",
   "execution_count": null,
   "metadata": {
    "vscode": {
     "languageId": "sql"
    }
   },
   "outputs": [],
   "source": [
    "select UpdateUserName ,* from DHC_DocDataChangeLog \n",
    "WHERE ClassNameDesc = \"医保标识\" \n",
    "and UpdateDate in ('2024-05-17','2024-05-18')\n",
    "and ObjectReference in (\n",
    "\tselect OEORI_RowId from OE_OrdItem \n",
    "\twhere OEORI_CoverMainIns is not null\n",
    "\tand OE_OrdItem.OEORI_InsertDate in ('2024-05-17','2024-05-18')\n",
    "\tand OEORI_ItmMast_DR -> arcim_desc like \"%床位%\"\n",
    "\tand OEORI_OEORD_ParRef in (\n",
    "\t\tselect OEORD_RowId1  from OE_Order where OEORD_Adm_DR in (\n",
    "\t\t\tselect PAADM_RowID  from PA_Adm where PAADM_VisitStatus <> \"D\"\n",
    "\t\t)\n",
    "\t)\n",
    ");\n",
    "-- 医保标志修改日志"
   ]
  },
  {
   "cell_type": "code",
   "execution_count": null,
   "metadata": {
    "vscode": {
     "languageId": "sql"
    }
   },
   "outputs": [],
   "source": [
    "-- 空医嘱\n",
    "select count(*),OEORI_OEORD_ParRef ->oeord_adm_dr->paadm_papmi_dr->papmi_name,OEORI_OEORD_ParRef ->oeord_adm_dr->paadm_papmi_dr->papmi_name,\n",
    "OEORI_OEORD_ParRef ->oeord_adm_dr->paadm_papmi_dr->papmi_no,* \n",
    "from oe_ordItem where OEORI_OEORD_ParRef in (\n",
    "\tselect distinct OEORD_RowId1  from OE_Order where OE_Order.OEORD_RowId1 in (\n",
    "\t\tselect distinct OEORI_OEORD_ParRef  from OE_OrdItem where OEORI_ItemStat_DR is null\n",
    "\t)\n",
    "\tand OEORD_Adm_DR is not null\n",
    ")\n",
    "and OEORI_ItemStat_DR is null\n",
    "group by OEORI_OEORD_ParRef;"
   ]
  },
  {
   "cell_type": "code",
   "execution_count": null,
   "metadata": {
    "vscode": {
     "languageId": "sql"
    }
   },
   "outputs": [],
   "source": [
    "create view order_graph as\n",
    "SELECT OEORI_Doctor_DR doctor,OEORI_Doctor_DR->CTPCP_Desc name,OEORI_ItmMast_DR item, \n",
    "OEORI_ItmMast_DR ->ARCIM_Desc item_name, COUNT(*) as order_count\n",
    "FROM OE_OrdItem \n",
    "where OEORI_Doctor_DR->CTPCP_Desc is not null\n",
    "GROUP BY OEORI_Doctor_DR, OEORI_ItmMast_DR;"
   ]
  },
  {
   "cell_type": "code",
   "execution_count": null,
   "metadata": {
    "vscode": {
     "languageId": "sql"
    }
   },
   "outputs": [],
   "source": [
    "SELECT \n",
    "\tres.RES_CTLOC_DR->CTLOC_Desc,\n",
    "\trbas.AS_Date, AS_Load, \n",
    "\tAS_NoApptSession,\n",
    "\tAS_SessStartTime,\n",
    "\tAS_SessEndTime,\n",
    "\tAS_TimeRange_DR->TR_Desc,\n",
    "\text.AS_SessionType_DR->SESS_Desc,\n",
    "\tAS_TimeCreate\n",
    "FROM SQLUser.RB_ApptSchedule rbas\n",
    "JOIN SQLUser.DHC_RBApptSchedule ext \n",
    "\tON rbas.AS_Rowid = ext.AS_Rowid\n",
    "JOIN SQLUser.RB_Resource res \n",
    "\tON rbas.AS_RES_ParRef = res.RES_RowId1 \n",
    "WHERE rbas.AS_Date BETWEEN '2012-10-01' AND '2012-10-31'\n",
    "AND rbas.AS_RowId NOT IN (\n",
    "\tSELECT APPT_AS_ParRef\n",
    "\tFROM RB_Appointment\n",
    ")\n",
    "ORDER BY res.RES_CTLOC_DR;"
   ]
  },
  {
   "cell_type": "code",
   "execution_count": null,
   "metadata": {
    "vscode": {
     "languageId": "sql"
    }
   },
   "outputs": [],
   "source": [
    "-- @Block\n",
    "SELECT OEORI_LabEpisodeNo,* \n",
    "FROM OE_OrdItem\n",
    "WHERE OEORI_OEORD_ParRef IN\n",
    "(\n",
    "\tSELECT OEORD_RowId1 \n",
    "\tFROM OE_Order\n",
    "\tWHERE OEORD_Adm_DR IN\n",
    "\t(\n",
    "\t\tSELECT PAADM_RowID \n",
    "\t\tFROM PA_Adm\n",
    "\t\tWHERE PAADM_PAPMI_DR = 46\n",
    "\t)\n",
    ");\n",
    "-- 就诊 医嘱 检验"
   ]
  },
  {
   "cell_type": "code",
   "execution_count": null,
   "metadata": {
    "vscode": {
     "languageId": "sql"
    }
   },
   "outputs": [],
   "source": [
    "-- @Block\n",
    "select Regfeetemp1\n",
    "from SQLUser.DHCRegistrationFee\n",
    "where RegfeeAdmDr in (\n",
    "\tselect PAADM_RowID\n",
    "\tfrom SQLUser.PA_Adm\n",
    "\twhere PAADM_PAPMI_DR = 46\n",
    "\t\tand PAADM_VisitStatus = \"A\"\n",
    ") \n",
    "\t-- and RegfeeDepDr = RegfeeDepDr\n",
    "\t-- and RegfeeDate + 3 >= RegfeeDate   \n",
    "\tand RegfeeArcPrice > 0;\n",
    "-- 挂号 发票 价格"
   ]
  },
  {
   "cell_type": "code",
   "execution_count": null,
   "metadata": {
    "vscode": {
     "languageId": "sql"
    }
   },
   "outputs": [],
   "source": [
    "-- @Block\n",
    "SELECT * \n",
    "FROM dhc_patbilldetails\n",
    "WHERE PBD_PBO_ParRef IN\n",
    "(\n",
    "\tSELECT PBO_RowId \n",
    "\tFROM dhc_patbillorder\n",
    "\tWHERE PBO_PB_ParRef IN\n",
    "\t(\n",
    "\t\tSELECT PB_Rowid \n",
    "\t\tFROM dhc_patientbill\n",
    "\t\tWHERE PB_Adm_DR IN\n",
    "\t\t(\n",
    "\t\t\tSELECT PAADM_Rowid \n",
    "\t\t\tFROM PA_adm\n",
    "\t\t\tWHERE PAADM_PAPMI_DR = 846 & PAADM_Type = \"I\"\n",
    "\t\t)\n",
    "\t)\n",
    ");\n",
    "-- 就诊 账单 账单医嘱 账单明细"
   ]
  },
  {
   "cell_type": "code",
   "execution_count": null,
   "metadata": {
    "vscode": {
     "languageId": "sql"
    }
   },
   "outputs": [],
   "source": [
    "-- @Block\n",
    "SELECT * \n",
    "FROM OE_OrdItem\n",
    "WHERE OEORI_OEORD_ParRef IN\n",
    "(\n",
    "\tSELECT OEORD_RowId1 FROM OE_Order\n",
    "\tWHERE OEORD_Adm_DR IN\n",
    "\t(\n",
    "\t\tSELECT PAADM_RowID FROM PA_Adm\n",
    "\t\tWHERE PAADM_PAPMI_DR = 676\n",
    "\t)\n",
    ");\n",
    "--  就诊 医嘱 医嘱明细"
   ]
  },
  {
   "cell_type": "code",
   "execution_count": null,
   "metadata": {
    "vscode": {
     "languageId": "sql"
    }
   },
   "outputs": [],
   "source": [
    "-- @Block\n",
    "select PAADM_DepCode_DR -> ctloc_desc ,count(*) As 总数\n",
    "From PA_Adm\n",
    "group by PAADM_DepCode_DR;\n",
    "select * FROM Ct_loc;\n",
    "-- 患者 科室 统计\n",
    "\n",
    "-- @Block\n",
    "select PAADM_DepCode_DR -> ctloc_desc ,count(*) As 总数\n",
    "from PA_Adm  \n",
    "where PAADM_VisitStatus = \"A\" \n",
    "\tand PAADM_AdmDate ='2023-11-11' \n",
    "\tand PAADM_Type  in ('O','E') \n",
    "group by PAADM_DepCode_DR;"
   ]
  },
  {
   "cell_type": "code",
   "execution_count": null,
   "metadata": {
    "vscode": {
     "languageId": "sql"
    }
   },
   "outputs": [],
   "source": [
    "-- @Block\n",
    "SELECT arcc.ARCIC_Desc,sum(pbo.PBO_ToTalAmount) As 费用 --,pbo.PBO_ToTalAmount,arc.arcim_desc,*\n",
    "FROM dhc_patbillorder pbo\n",
    "join ARC_ItmMast arc\n",
    "on pbo.PBO_ARCIM_DR = arc.ARCIM_RowId\n",
    "join ARC_ItemCat arcc on arc.ARCIM_ItemCat_DR = arcc.ARCIC_RowId\n",
    "where \n",
    "\t\tarcc.ARCIC_OrderType = \"R\"\n",
    "\tand\tarcc.ARCIC_Desc != \"其他\"\n",
    "group by ARCIC_Desc;\n",
    "-- 医嘱 费用 子类"
   ]
  }
 ],
 "metadata": {
  "language_info": {
   "name": "python"
  }
 },
 "nbformat": 4,
 "nbformat_minor": 2
}
