{
 "cells": [
  {
   "cell_type": "code",
   "execution_count": null,
   "metadata": {
    "vscode": {
     "languageId": "objectscript"
    }
   },
   "outputs": [],
   "source": [
    "s HospID=##class(DHCDoc.Common.Hospital).GetAdmHospitalId(EpisodeId)"
   ]
  },
  {
   "cell_type": "code",
   "execution_count": null,
   "metadata": {
    "vscode": {
     "languageId": "objectscript"
    }
   },
   "outputs": [],
   "source": [
    "/// 重症医学科转入时间和转出时间 列表\n",
    "/// Input:\tEpisodeID 就诊ID\n",
    "/// Output:\t转入时间^转出时间!!转入时间^转出时间\n",
    "/// Debug: w ##Class(web.DHCDocMain).GetTransTime(402114)\n",
    "ClassMethod GetTransTime(EpisodeID As %String) As %String\n",
    "{\n",
    "\t&sql(DECLARE mycursor CURSOR FOR\n",
    "\t\tSELECT TRANS_StartDate, TRANS_StartTime, TRANS_EndDate, TRANS_EndTime \n",
    "\t\tinto :StartDate, :StartTime, :EndDate, :EndTime\n",
    "\t\tFROM SQLUser.PA_AdmTransaction \n",
    "\t\tWHERE TRANS_CTLOC_DR = 475 AND TRANS_ParRef = :EpisodeID\n",
    "\t)\n",
    "\t&sql(OPEN mycursor)\n",
    "\t\n",
    "\tfor {\n",
    "\t\t&sql(FETCH mycursor)\n",
    "    \tQUIT:SQLCODE'=0\n",
    "    \ts:StartDate'=\"\" StartDate = $zd(StartDate,3)\n",
    "    \ts:StartTime'=\"\" StartTime = $zt(StartTime)\n",
    "    \ts:EndDate'=\"\" EndDate = $zd(EndDate,3)\n",
    "    \ts:EndTime'=\"\" EndTime = $zt(EndTime)\n",
    "    \ts one = $lts($lb(\n",
    "    \t\t$lts($lb(StartDate,StartTime),\" \"),\n",
    "    \t\t$lts($lb(EndDate,EndTime),\" \")\n",
    "    \t\t),\n",
    "    \t\t\"^\"\n",
    "    \t)\n",
    "    \ts $list(list,$ll($g(list))+1) = one\n",
    "\t}\n",
    "\t&sql(CLOSE mycursor)\n",
    "\tq $lts($g(list),\"!!\")\n",
    "}"
   ]
  },
  {
   "cell_type": "code",
   "execution_count": null,
   "metadata": {
    "vscode": {
     "languageId": "objectscript"
    }
   },
   "outputs": [],
   "source": [
    ";住院号\n",
    "s MRNo = ##class(EMRservice.HISInterface.PatientInfoAssist).GetMRNoByEpisodeID(EpisodeID)"
   ]
  },
  {
   "cell_type": "code",
   "execution_count": null,
   "metadata": {
    "vscode": {
     "languageId": "objectscript"
    }
   },
   "outputs": [],
   "source": [
    "/// 就诊 获取 手术信息\n",
    "d ##class(%ResultSet).RunQuery(\"EMRservice.SystemData\",\"GetAnOperInfo\",\"849\")"
   ]
  }
 ],
 "metadata": {
  "language_info": {
   "name": "python"
  }
 },
 "nbformat": 4,
 "nbformat_minor": 2
}
