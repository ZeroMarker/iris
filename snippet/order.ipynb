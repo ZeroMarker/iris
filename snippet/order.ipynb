{
 "cells": [
  {
   "cell_type": "code",
   "execution_count": null,
   "metadata": {
    "vscode": {
     "languageId": "objectscript"
    }
   },
   "outputs": [],
   "source": [
    "/// desc:\t\t通过医嘱ID获取处方号\n",
    "/// input:\t\torditem\n",
    "/// output:\t\tprescNo\n",
    "/// w ##class(web.DHCDocMain).GetPrescNoByOrdItem(\"182||5\")\n",
    "ClassMethod GetPrescNoByOrdItem(OrdItem)\n",
    "{\n",
    "\tq:OrdItem=\"\" \"\"\n",
    "\ts PrescNo = $p($g(^OEORD(+OrdItem,\"I\",$p($g(OrdItem),\"||\",2),1)),\"^\",14)\n",
    "\tq PrescNo\n",
    "}"
   ]
  },
  {
   "cell_type": "code",
   "execution_count": null,
   "metadata": {
    "vscode": {
     "languageId": "objectscript"
    }
   },
   "outputs": [],
   "source": [
    "/// 获取医嘱项代码\n",
    "/// w ##class(web.DHCDocMain).GetArcimCode(\"1||1\")\n",
    "ClassMethod GetArcimCode(OrdItem)\n",
    "{\n",
    "\tq:OrdItem=\"\" \"\"\n",
    "\ts Arcim = $p($g(^OEORD(+OrdItem,\"I\",$p(OrdItem,\"||\",2),1)),\"^\",2)\n",
    "\ts code = $p($g(^ARCIM(+Arcim,1,1)),\"^\",1)\n",
    "\tq code\n",
    "}"
   ]
  },
  {
   "cell_type": "code",
   "execution_count": null,
   "metadata": {
    "vscode": {
     "languageId": "objectscript"
    }
   },
   "outputs": [],
   "source": [
    "/// 获取检验号\n",
    "/// w ##class(web.DHCDocMain).GetLabNoByOrdItem(\"1244||5\")\n",
    "ClassMethod GetLabNoByOrdItem(OrdItem)\n",
    "{\n",
    "\tq:OrdItem=\"\" \"\"\n",
    "\ts PrescNo = $p($g(^OEORD(+OrdItem,\"I\",$p($g(OrdItem),\"||\",2),3)),\"^\",20)\n",
    "\tq PrescNo\n",
    "}\n"
   ]
  },
  {
   "cell_type": "code",
   "execution_count": null,
   "metadata": {
    "vscode": {
     "languageId": "objectscript"
    }
   },
   "outputs": [],
   "source": [
    "/// 获取检验主遗嘱\n",
    "/// w ##class(web.DHCDocMain).GetLabMainOrd(\"1||1\")\n",
    "ClassMethod GetLabMainOrd(OrdItem)\n",
    "{\n",
    "\tq:OrdItem=\"\" \"\"\n",
    "\ts LabNoStr = $p($g(^OEORD(+OrdItem,\"I\",$p(OrdItem,\"||\",2),\"DHC\")),\"^\",22)\n",
    "\ts LabNo = $p($g(LabNoStr),$c(1))\n",
    "\ts MainOrd = \"\"\n",
    "\t&sql(select OEORI_RowId into:MainOrd from SQLUser.oe_ordItem where OEORI_LabEpisodeNo = :LabNo)\n",
    "\tq MainOrd\n",
    "}"
   ]
  },
  {
   "cell_type": "code",
   "execution_count": null,
   "metadata": {
    "vscode": {
     "languageId": "plaintext"
    }
   },
   "outputs": [],
   "source": [
    "s OrderType=##class(DHCDoc.Order.Common).GetOrdItemType(OrderItemRowId)"
   ]
  },
  {
   "cell_type": "code",
   "execution_count": null,
   "metadata": {
    "vscode": {
     "languageId": "objectscript"
    }
   },
   "outputs": [],
   "source": [
    "/// Creator: Lid\n",
    "/// CreatDate: 2017-08-30\n",
    "/// Description: 提供给其他产品组调用的取医嘱或执行记录的计费状态\n",
    "/// Input: oeitm:医嘱RowID或执行记录RowID，注：门诊要传OE_OrdItem.RowId，住院要传OE_OrdExec.RowId\n",
    "/// Return: 账单状态^账单状态描述\n",
    "/// \t\tTB^未计费(未收费)，B^已计费(未收费)，P^已收费，I^需退费，R^已退费，-1^入参错误，-10^程序异常\n",
    "/// Debug: w ##class(web.DHCBillInterface).IGetOrdItmBilled(\"93||3\")"
   ]
  },
  {
   "cell_type": "code",
   "execution_count": null,
   "metadata": {
    "vscode": {
     "languageId": "objectscript"
    }
   },
   "outputs": [],
   "source": [
    "/// 医嘱 查询\n",
    "d ##class(web.DHCOEOrdItem).FindOrderItemsNew"
   ]
  },
  {
   "cell_type": "code",
   "execution_count": null,
   "metadata": {
    "vscode": {
     "languageId": "objectscript"
    }
   },
   "outputs": [],
   "source": [
    "w ##class(web.DHCDocOrderCommon).GetLabSpec(\"3950||1\",2)\n",
    "/// 医嘱项目 检验标本"
   ]
  },
  {
   "cell_type": "code",
   "execution_count": null,
   "metadata": {
    "vscode": {
     "languageId": "objectscript"
    }
   },
   "outputs": [],
   "source": [
    "/// 医嘱项目 医院\n",
    "s:HospitalId=\"\" HospitalId = $g(^ARCIM(+ArcimRowid,1,\"HOSP\",1))"
   ]
  },
  {
   "cell_type": "code",
   "execution_count": null,
   "metadata": {
    "vscode": {
     "languageId": "objectscript"
    }
   },
   "outputs": [],
   "source": [
    "/// 接收科室\n",
    "w ##class(web.DHCDocOrderCommon).GetRecloc(347731,\"5068||1\",\"0\")"
   ]
  },
  {
   "cell_type": "code",
   "execution_count": null,
   "metadata": {
    "vscode": {
     "languageId": "objectscript"
    }
   },
   "outputs": [],
   "source": [
    "/// 医嘱 类型代码\n",
    "s OrderType=##class(DHCDoc.Order.Common).GetOrdItemType(OrdItemID)"
   ]
  },
  {
   "cell_type": "code",
   "execution_count": null,
   "metadata": {
    "vscode": {
     "languageId": "objectscript"
    }
   },
   "outputs": [],
   "source": [
    "/**\n",
    "\t* @debug w ##class(web.DHCDocMain).CalBaseQty(\"11134||1\",\"16\",\"4\",\"O\")\n",
    "\t* @debug w ##class(web.DHCDocMain).CalBaseQty(\"11134||1\",\"0.1\",\"66\",\"O\")\n",
    "\t* @debug w ##class(web.DHCDocMain).CalBaseQty(\"1475||1\",\"2\",\"16\",\"O\")\n",
    "*/\n",
    "ClassMethod CalBaseQty(type, arcim, qty, uom, AdmType)\n",
    "{\n",
    "\ts ^CalBaseQty(uom) = $lb(arcim, qty, uom, AdmType)\n",
    "\tq:arcim=\"\" \"\"\n",
    "\tq:qty=\"\" \"\"\n",
    "\tq:uom=\"\" \"\"\n",
    "\ts res = \"\"\n",
    "\tif type=\"dose\" {\n",
    "\t\ts doseqty = qty\n",
    "\t\ts drgform=$p($g(^ARCIM(+arcim,+$p(arcim,\"||\",2),1)),\"^\",12)\n",
    "\t\ts res = $$calcqty^DHCOEOrdItem(drgform,uom,doseqty,AdmType)\n",
    "\t}\n",
    "\tif type=\"pack\" {\n",
    "\t\ts convFac=##class(appcom.OEDispensing).convFac(arcim,uom)\n",
    "\t\ts res=qty*convFac\n",
    "\t}\n",
    "\tq res\n",
    "}\n",
    "\n",
    "ClassMethod GetEqUom(arcim, EpisodeID)\n",
    "{\n",
    "\ts DrgformRowid=##class(web.DHCDocOrderEntry).GetDrgForm(arcim)\n",
    "\ti DrgformRowid'=\"\" {\n",
    "\t\ts PHCDRowid=$P(DrgformRowid,\"||\",1)\n",
    "\t\ts ChildSub=$P(DrgformRowid,\"||\",2)\n",
    "\n",
    "\t\ts HospitalID = ##class(DHCDoc.Common.Hospital).GetAdmHospitalId(EpisodeID)\n",
    "\t\ts PHUseEqQty=..%GetConfig(\"PHUseEqQty\",HospitalID)\n",
    "\t\t;草药不取等效单位\n",
    "\t\ts defaultFindFlag=0,firstEqUomID=\"\"\n",
    "\n",
    "\t\ts leq=0  f  s leq=$o(^PHCD(PHCDRowid,\"DF\",ChildSub,\"EQ\",leq)) q:leq=\"\"  d\n",
    "\t\t.s eqrec=^PHCD(PHCDRowid,\"DF\",ChildSub,\"EQ\",leq)\n",
    "\t\t.s FormDoseUOMRowid=$p(eqrec,\"^\"),eqqty=$p(eqrec,\"^\",2),eqdefaultqty=$p(eqrec,\"^\",3),defaultFlag=$p(eqrec,\"^\",4)\n",
    "\t\t.;s FormDoseQty=eqdefaultqty\n",
    "\t\t.if eqdefaultqty'=\"\" s FormDoseQty=eqdefaultqty\n",
    "\t\t.e  d\n",
    "\t\t..i PHUseEqQty=1 s FormDoseQty=eqqty\n",
    "\t\t..e  s FormDoseQty=\"\"\n",
    "\t\t.s FormDoseUOMDesc=##class(web.DHCDocOrderCommon).GetUOMDesc(FormDoseUOMRowid)\n",
    "\t\t.i (FormDoseQty'=\"\")&(FormDoseQty<1)&(FormDoseQty'=0) s FormDoseQty=\"0\"_FormDoseQty\n",
    "\t\t.s formDoseQty(FormDoseUOMRowid)=FormDoseQty_$C(1)_FormDoseUOMDesc_$C(1)_FormDoseUOMRowid_$C(1)_defaultFlag_$C(1)_FormDoseQty\n",
    "\t\t.s:firstEqUomID=\"\" firstEqUomID=FormDoseUOMRowid\n",
    "\t\t.s:defaultFlag=\"Y\" defaultFindFlag=1\n",
    "\t}\n",
    "\tq $g(firstEqUomID)\n",
    "}\n"
   ]
  },
  {
   "cell_type": "code",
   "execution_count": null,
   "metadata": {
    "vscode": {
     "languageId": "objectscript"
    }
   },
   "outputs": [],
   "source": [
    "/// @debug: w ##class(web.DHCDocMain).CheckPackBaseQty(\"312031\",\"441||1\",\"3\",\"6\")\n",
    "ClassMethod CheckPackBaseQty(EpisodeID, Arcim, PackQty, PackUom)\n",
    "{\n",
    "\t/*\n",
    "\t片剂、普通片、分散片、含片、薄膜衣片、咀嚼片、缓释片、控释片、肠溶片、糖衣片、胶囊剂、缓释胶囊剂、软胶囊剂、颗粒剂、散剂、干混悬剂、口服溶液\n",
    "\t*/\n",
    "\ts ^CheckPackBaseQty = $lb(EpisodeID, Arcim, PackQty, PackUom)\n",
    "\tq:EpisodeID=\"\" \"\"\n",
    "\tq:Arcim=\"\" \"\"\n",
    "\tq:PackQty=\"\" \"\"\n",
    "\tq:PackUom=\"\" \"\"\n",
    "\ts AdmType = $p(^PAADM(EpisodeID),\"^\",2)\n",
    "\ts HospID=##class(DHCDoc.Common.Hospital).GetAdmHospitalId(EpisodeID)\n",
    "\tq:HospID'=2 \"\"\n",
    "\tq:AdmType=\"I\" \"\"\n",
    "\ts list = $lb(\"片剂\",\"普通片\",\"分散片\",\"含片\",\"薄膜衣片\",\"咀嚼片\",\"缓释片\",\"控释片\",\"肠溶片\",\"糖衣片\",\"胶囊剂\",\"缓释胶囊剂\",\"软胶囊剂\",\"颗粒剂\",\"散剂\",\"干混悬剂\",\"口服溶液\")\n",
    "\ts ItemCatDR=$p(^ARCIM(+Arcim,1,1),\"^\",10)\n",
    "\ts OrderType=$P(^ARC(\"IC\",ItemCatDR),\"^\",7)\n",
    "\tq:OrderType'=\"R\" \"\"\n",
    "\ts Phcdf=##class(web.DHCST.Common.DrugInfoCommon).GetPhcdfByArcim(Arcim)\n",
    "\ts drugform=$p(##class(web.DHCST.Common.DrugInfoCommon).GetFormByPhcdf(Phcdf),\"^\",2)\n",
    "\tif $lf(list, drugform) {\n",
    "\t\ts convFac=##class(appcom.OEDispensing).convFac(Arcim,PackUom)\n",
    "\t\ts res=PackQty*convFac\n",
    "\t\t;整包装单位\n",
    "\t\t/*\n",
    "\t\ts PackUOMRowid=$p($g(^ARCIM(+ArcimRowid,1,8)),\"^\",14)\n",
    "\t\ts convFac=##class(appcom.OEDispensing).convFac(Arcim,PackUOMRowid)\n",
    "\t\tif res < convFac {\n",
    "\t\t\t\t\n",
    "\t\t}\n",
    "\t\t*/\n",
    "\t\ts incId=$o(^INCI(0,\"ARCIM_DR\",+Arcim,0))\n",
    "\t\ts UOMFac=1\n",
    "\t\ti incId'=\"\" d\n",
    "\t\t.//包装单位\n",
    "\t\t.s bUom=$p(^INCI(incId,1),\"^\",10)\n",
    "\t\t.//基本单位\n",
    "\t\t.s pUom=$p(^INCI(incId,3),\"^\",6)\n",
    "\t\t.//门诊发药单位\n",
    "\t\t.s outPhUomDr=$p(^INCI(incId,1),\"^\",12)\n",
    "\t\t.//入库单位（正包装的）\n",
    "\t\t.s UOMFac= ##class(PHA.FACE.OUT.Com).UOMFac(pUom,bUom) //整包装单位\n",
    "\t\t.//s UOMFac= ##class(PHA.FACE.OUT.Com).UOMFac(outPhUomDr,bUom) // 和发药单位匹配\n",
    "\t\t//取医嘱的销售单位  发药单位\n",
    "\t\tb ;;;;\n",
    "\t\tif res < $g(UOMFac) {\n",
    "\t\t\tq \"Y\"\t\n",
    "\t\t}\n",
    "\t\tq \"\"\n",
    "\t}\n",
    "\telse {\n",
    "\t\tq \"\"\t\n",
    "\t}\n",
    "\t;剂型\n",
    "\t;基本单位\n",
    "\t;整包装\n",
    "}"
   ]
  },
  {
   "cell_type": "code",
   "execution_count": null,
   "metadata": {
    "vscode": {
     "languageId": "plaintext"
    }
   },
   "outputs": [],
   "source": [
    "w ##class(Nur.HISUI.NeedCareOrder).ifUnExcuteExam(\"223528||79\")"
   ]
  },
  {
   "cell_type": "code",
   "execution_count": null,
   "metadata": {
    "vscode": {
     "languageId": "plaintext"
    }
   },
   "outputs": [],
   "source": [
    "InitPatOrderViewGlobal()\n",
    "医嘱录入"
   ]
  },
  {
   "cell_type": "code",
   "execution_count": null,
   "metadata": {
    "vscode": {
     "languageId": "plaintext"
    }
   },
   "outputs": [],
   "source": [
    "w ##class(web.DHCDocOrderCommon).GetLocRecLoc(\"474\",\"42696||1\",\"\",\"I\")\n",
    "获取接受科室\n",
    "w ##Class(web.DHCDocOrderCommon).GetRecLocInfo(^TEMP(\"GetRecLocInfo\"))"
   ]
  },
  {
   "cell_type": "code",
   "execution_count": null,
   "metadata": {
    "vscode": {
     "languageId": "plaintext"
    }
   },
   "outputs": [],
   "source": [
    "s DoseQty=$p($g(^OEORD(OEOrdRowID,\"I\",OEOrdItemSub,2)),\"^\",1)\t\t// 单次剂量\n",
    "\t\ts DoseQtyUomDR=$p($g(^OEORD(OEOrdRowID,\"I\",OEOrdItemSub,2)),\"^\",3)\t\t// 单次剂量单位\n",
    "\t\ti DoseQtyUomDR'=\"\" s DoseQtyUom=$p($g(^CT(\"UOM\",DoseQtyUomDR)),\"^\",2)\n",
    "\t\te  s DoseQtyUom=\"\"\n",
    "\t\ts PackQty=$p($g(^OEORD(OEOrdRowID,\"I\",OEOrdItemSub,9)),\"^\",4)\t\t// 数量 整\n",
    "\t\ts PackQtyUomDR=$p($g(^OEORD(OEOrdRowID,\"I\",OEOrdItemSub,\"DHC\")),\"^\",13)\t\t// 数量单位"
   ]
  },
  {
   "cell_type": "code",
   "execution_count": null,
   "metadata": {
    "vscode": {
     "languageId": "plaintext"
    }
   },
   "outputs": [],
   "source": [
    "/// Creator:      郭荣勇\n",
    "/// CreatDate:    2016.08.11\n",
    "/// Description:  根据医嘱项取得相应的处方类别\n",
    "/// Table:        \n",
    "/// Input:        ArcimRowid:医嘱项指针\n",
    "/// Return:      处方类别代码:1:西药,2:中成药3:草药4:有频次的处置治疗5:精神二类药6:精神一类药7:抗生素8:毒麻\n",
    "/// Others: \n",
    "web.DHCDocOrderCommon:GetPHPrescTypeByItem"
   ]
  },
  {
   "cell_type": "code",
   "execution_count": null,
   "metadata": {
    "vscode": {
     "languageId": "objectscript"
    }
   },
   "outputs": [],
   "source": [
    "/// 护理级别 天数\n",
    "/// w ##class(web.DHCDocMain).GetCareDay(2004834,1)\n",
    "ClassMethod GetCareDay(EpisodeID, Type)\n",
    "{\n",
    "                                                            \n",
    "\t;Set EpisodeID = $o(^PAPERdr(PatientID,\"ADM\",\"O\",EpisodeID))\n",
    "\tQuit:EpisodeID=\"\"\n",
    "\tQuit:Type=\"\"\n",
    "\tif Type = 1 {\n",
    "\t\ts Type = \"Ⅰ级护理\"\t\n",
    "\t}\n",
    "\tif Type = 2 {\n",
    "\t\ts Type = \"Ⅱ级护理\"\t\n",
    "\t}\n",
    "\tif Type = 3 {\n",
    "\t\ts Type = \"Ⅲ级护理\"\t\n",
    "\t}\n",
    "\tif Type = 0 {\n",
    "\t\ts Type = \"特级护理\"\t\n",
    "\t}\n",
    "\ts count = 0\n",
    "\tSet ord = 0\n",
    "\tFor {\n",
    "\t\tSet ord = $o(^OEORD(0,\"Adm\",EpisodeID,ord))\n",
    "\t\tQuit:ord=\"\"\n",
    "\t\t;b:ord=2000306\n",
    "\t\tSet item = 0\n",
    "\t\tFor {\n",
    "\t\t\tSet item = $o(^OEORD(ord,\"I\",item))\n",
    "            Quit:item=\"\"\n",
    "            continue:((ord=\"2037583\")&&(item=\"62\"))   ///空医嘱退出\n",
    "            Set arcim = $p(^OEORD(ord,\"I\",item,1),\"^\",2)\n",
    "            Set desc = $p(^ARCIM(+arcim,1,1),\"^\",3)\n",
    "            s desc = $replace(desc,\"I\",\"Ⅰ\")\n",
    "            s desc = $replace(desc,\"II\",\"Ⅱ\")\n",
    "            s desc = $replace(desc,\"III\",\"Ⅲ\")\n",
    "            s desc = $replace(desc,\" \",\"\")\n",
    "            ;b:ord=2000306 ;;item\n",
    "            ;b:item=2\n",
    "            ;b:item=35\n",
    "           \tContinue:(\"^\"_desc)'=(\"^\"_Type)\n",
    "           \t;b ;:ord=2000306 ;; exe\n",
    "            Set exe = 0\n",
    "            For {\n",
    "                Set exe = $o(^OEORD(ord,\"I\",item,\"X\",exe))\n",
    "                Quit:exe=\"\"\n",
    "                s stat = $p(^OEORD(ord,\"I\",item,\"X\",exe),\"^\",16)\n",
    "                ;b ;;; stat\n",
    "                Continue:stat'=1\n",
    "                s count = count + 1\n",
    "            }\n",
    "\t\t}\n",
    "\t}\n",
    "\t;b:ord=2000306 ;quit\n",
    "\tq Type_\"^\"_count\n",
    "}"
   ]
  },
  {
   "cell_type": "code",
   "execution_count": null,
   "metadata": {
    "vscode": {
     "languageId": "objectscript"
    }
   },
   "outputs": [],
   "source": [
    "/// 删除 医嘱套 恢复\n",
    "/// d ##class(web.DHCDocMain).Recovery()\n",
    "ClassMethod Recovery() [ Language = objectscript ]\n",
    "{\n",
    "\t&sql(DECLARE mycursor CURSOR FOR\n",
    "\t\tselect ObjectDesc ,ObjectReference ,OldValue into :desc , :oref ,:old from SQLUser.DHC_DocDataChangeLog \n",
    "\t\twhere  \n",
    "\t\tClassNameDesc = \"医嘱套信息\" \n",
    "\t\tand OperateType = \"D\" \n",
    "\t\tand DHC_DocDataChangeLog.UpdateDate = current_date-2\n",
    "\t\tand UpdateUserName = \"张成红\"\n",
    "\t)\n",
    "\t&sql(OPEN mycursor)\n",
    "\t\n",
    "\ts count = 0\n",
    "\tfor {\n",
    "\t\t&sql(FETCH mycursor)\n",
    "    \tQUIT:SQLCODE'=0\n",
    "    \tif oref [ \"User.DHCUserFavItems\" {\n",
    "\t    \t&sql(\n",
    "\t    \t\tselect ObjectReference into :arcos from SQLUser.DHC_DocDataChangeLog \n",
    "\t\t\t\twhere  \n",
    "\t\t\t\tClassNameDesc = \"医嘱套信息\" \n",
    "\t\t\t\tand OperateType = \"D\" \n",
    "\t\t\t\tand DHC_DocDataChangeLog.UpdateDate = current_date-2\n",
    "\t\t\t\tand UpdateUserName = \"张成红\"\n",
    "\t\t\t\tand ObjectDesc = :desc\n",
    "\t    \t)\n",
    "\t    \ts arcos = $p(arcos,\"_\",2)\n",
    "\t    \t/*\n",
    "\t    \ts ^DHCFavItems(4554) = \"ARCOS^^9108^10^^^^^^N^2^66872^\"\n",
    "\n",
    "\t\t\ts $p(^ARCOS(9108),\"^\",16)=\"\"\n",
    "\t    \t*/\n",
    "\t    \ts json = {}.%FromJSON(old)\n",
    "\t    \tset iter = json.%GetIterator()\n",
    "\t\t\twhile iter.%GetNext(.key, .value, .type ) {\n",
    "\t\t\t\t;write \"key = \"_key_\", value = \"_value_\", type = \"_type,!\n",
    "\t\t\t\ts user = value.\"Fav_User_Dr\"\n",
    "\t\t\t\ts dept = value.\"Fav_Dep_Dr\"\n",
    "\t\t\t\ts hosp = value.\"Fav_Hosp_Dr\"\n",
    "\t\t\t\ts contral = value.\"Fav_ContralType\"\n",
    "\t\t\t\ts unit = value.\"Fav_MedUnit_Dr\"\n",
    "\t\t\t\ts cele = value.\"Fav_CelerType\"\n",
    "\t\t\t}\n",
    "\t\t\ts id = $p(oref,\"_\",2)\n",
    "\t    \ts string = $lts(\n",
    "\t    \t\t$lb(\n",
    "\t    \t\t\t\"ARCOS\",\n",
    "\t    \t\t\tuser,\n",
    "\t    \t\t\tarcos,\n",
    "\t    \t\t\tdept,\n",
    "\t    \t\t\t\"\",\n",
    "\t    \t\t\tcontral,\n",
    "\t    \t\t\t\"\",\n",
    "\t    \t\t\tunit,\n",
    "\t    \t\t\thosp,\n",
    "\t    \t\t\tcele,\n",
    "\t    \t\t\t2,\n",
    "\t    \t\t\t66872,\n",
    "\t    \t\t\t\"\"\n",
    "\t    \t\t)\n",
    "\t    \t\t,\n",
    "\t    \t\t\"^\"\n",
    "\t    \t)\n",
    "\t    \t;w $d(^DHCFavItems(id)),!\n",
    "\t    \ts ^DHCFavItems(id) = string\n",
    "\t    \ts $p(^ARCOS(arcos),\"^\",16)=\"\"\n",
    "\t    \ts count = count + 1\n",
    "\t    }\n",
    "    \t\n",
    "\t}\n",
    "\t&sql(CLOSE mycursor)\n",
    "\tw count\n",
    "\tq 0\n",
    "}\n"
   ]
  },
  {
   "cell_type": "code",
   "execution_count": null,
   "metadata": {
    "vscode": {
     "languageId": "objectscript"
    }
   },
   "outputs": [],
   "source": [
    "/// 就诊循环\n",
    "/// w ##class(web.DHCDocMain).Loop()\n",
    "ClassMethod AdmLoop() [ Language = objectscript ]\n",
    "{\n",
    "\ts count = 0\n",
    "\ts id = 0\n",
    "\t;s double = $p(^DHCITMINFO(id),\"^\",120)\n",
    "\tfor {\n",
    "\t\ts id = $o(^PAADM(id))\n",
    "\t\tq:id=\"\"\n",
    "\t\ts rtn = ..GetTransTime(id)\n",
    "\t\tcontinue:rtn=\"\"\n",
    "\t\ts pat = $p(^PAADM(id),\"^\",1)\n",
    "\t\ts no = $p(^PAPER(id,\"PAT\",1),\"^\",1)\n",
    "\t\tw no , !\n",
    "\t\tw rtn , !\n",
    "\t\ts count = count + 1\n",
    "\t\tq:count=30\n",
    "\t}\n",
    "\tq count\n",
    "}\n",
    "\n"
   ]
  },
  {
   "cell_type": "code",
   "execution_count": null,
   "metadata": {
    "vscode": {
     "languageId": "objectscript"
    }
   },
   "outputs": [],
   "source": [
    "/// 医嘱 循环\n",
    "/// w ##class(web.DHCDocMain).OrdLoop()\n",
    "ClassMethod OrdLoop() [ Language = objectscript ]\n",
    "{\n",
    "\ts count = 0\n",
    "\ts ord = 0\n",
    "\t;s double = $p(^DHCITMINFO(id),\"^\",120)\n",
    "\tfor {\n",
    "\t\ts ord = $o(^OEORD(ord))\n",
    "\t\tq:ord=\"\"\n",
    "\t\ts item = 0\n",
    "\t\tfor {\n",
    "\t\t\ts item = $o(^OEORD(ord,\"I\",item))\n",
    "\t\t\tq:item=\"\"\n",
    "\t\t\ts note = $g(^OEORD(ord,\"I\",item,\"DEP\",1))\n",
    "\t\t\tcontinue:note'[\"胸部CT\"\n",
    "\t\t\tw note,!\n",
    "\t\t\ts count = count + 1\n",
    "\t\t\tq:count=30\n",
    "\t\t}\n",
    "\t\t\n",
    "\t}\n",
    "\tq count\n",
    "}"
   ]
  },
  {
   "cell_type": "code",
   "execution_count": null,
   "metadata": {
    "vscode": {
     "languageId": "objectscript"
    }
   },
   "outputs": [],
   "source": [
    "/// 就诊循环\n",
    "/// w ##class(web.DHCDocMain).Loop()\n",
    "ClassMethod ArcLoop() [ Language = objectscript ]\n",
    "{\n",
    "\ts count = 0\n",
    "\ts id = 0\n",
    "\t;s double = $p(^DHCITMINFO(id),\"^\",120)\n",
    "\tfor {\n",
    "\t\ts id = $o(^ARCIM(id))\n",
    "\t\tq:id=\"\"\n",
    "\t\ts rtn = ..GetTransTime(id)\n",
    "\t\tcontinue:rtn=\"\"\n",
    "\t\ts pat = $p(^PAADM(id),\"^\",1)\n",
    "\t\ts no = $p(^PAPER(id,\"PAT\",1),\"^\",1)\n",
    "\t\tw no , !\n",
    "\t\tw rtn , !\n",
    "\t\ts count = count + 1\n",
    "\t\tq:count=30\n",
    "\t}\n",
    "\tq count\n",
    "}"
   ]
  },
  {
   "cell_type": "code",
   "execution_count": null,
   "metadata": {
    "vscode": {
     "languageId": "objectscript"
    }
   },
   "outputs": [],
   "source": [
    "/// 医嘱子类\n",
    "s ItemCatRowid=##class(web.DHCDocOrderEntry).GetItemCat(Arcim)\n"
   ]
  },
  {
   "cell_type": "code",
   "execution_count": null,
   "metadata": {
    "vscode": {
     "languageId": "javascript"
    }
   },
   "outputs": [],
   "source": [
    "/*************************************\n",
    " *说明：2014-08-15\n",
    " *设置添加行数据时 单元格是否可编辑\n",
    " *DefaultStyleConfigObj中的属性必须和表格列index相同\n",
    " *返回StyleConfigObj\n",
    " *如果考虑非强制模式的话，应该是需要在prior的change事件中重算style-tanjishan\n",
    " *************************************/\n",
    "function GetStyleConfigObj(ParamObj)\n",
    "// 前端样式"
   ]
  }
 ],
 "metadata": {
  "language_info": {
   "name": "python"
  }
 },
 "nbformat": 4,
 "nbformat_minor": 2
}
