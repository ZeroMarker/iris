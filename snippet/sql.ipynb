{
 "cells": [
  {
   "cell_type": "code",
   "execution_count": null,
   "metadata": {
    "vscode": {
     "languageId": "objectscript"
    }
   },
   "outputs": [],
   "source": [
    "; cursor\n",
    "    &sql(DECLARE mycursor CURSOR FOR\n",
    "\t\tselect OEORI_OEORD_ParRef ,OEORI_Childsub into :Par, :Sub \n",
    "        from SQLUser.OE_OrdItem \n",
    "\t\twhere \n",
    "\t)\n",
    "\t&sql(OPEN mycursor)\n",
    "\t\n",
    "\tfor {\n",
    "\t\t&sql(FETCH mycursor)\n",
    "    \tQUIT:SQLCODE'=0\n",
    "    \t\n",
    "\t}\n",
    "\t&sql(CLOSE mycursor)"
   ]
  },
  {
   "cell_type": "code",
   "execution_count": null,
   "metadata": {
    "vscode": {
     "languageId": "objectscript"
    }
   },
   "outputs": [],
   "source": [
    "; array\n",
    "set resultArray = []\n",
    "&sql(DECLARE myCursor CURSOR FOR\n",
    "    SELECT Column1, Column2\n",
    "    FROM YourTable\n",
    ")\n",
    "\n",
    "&sql(OPEN myCursor)\n",
    "\n",
    "while &sql(FETCH myCursor INTO :column1, :column2) {\n",
    "    set row = {\n",
    "        \"Column1\": column1,\n",
    "        \"Column2\": column2\n",
    "    }\n",
    "    do resultArray.%push(row)\n",
    "}\n",
    "\n",
    "&sql(CLOSE myCursor)"
   ]
  },
  {
   "cell_type": "code",
   "execution_count": null,
   "metadata": {
    "vscode": {
     "languageId": "objectscript"
    }
   },
   "outputs": [],
   "source": [
    "; plist\n",
    "&sql(\n",
    "    SELECT * INTO :PLIST() FROM Course\n",
    "    WHERE Crs_Id = :CrsId\n",
    ")\n",
    "s count=$o(PLIST(\"\"),-1)\n",
    "for i=1:1:count {\n",
    "    w PLIST(i)\n",
    "}"
   ]
  },
  {
   "cell_type": "code",
   "execution_count": null,
   "metadata": {
    "vscode": {
     "languageId": "objectscript"
    }
   },
   "outputs": [],
   "source": [
    "/// @debug: d ##class(web.DHCDocMain).TestView()\n",
    "ClassMethod TestView()\n",
    "{\n",
    "\t&sql(\n",
    "\t\tCREATE view OrderView as (\n",
    "\t\tselect\n",
    "\t\t\tOEORI_OEORD_ParRef -> oeord_adm_dr->paadm_papmi_dr->papmi_name as name,\n",
    "\t\t\tOEORI_OEORD_ParRef -> oeord_adm_dr->paadm_papmi_dr->papmi_no as regno,\n",
    "\t\t\tOEORI_OEORD_ParRef -> oeord_adm_dr->paadm_papmi_dr->papmi_id as idcard,\n",
    "\t\t\tOEORI_OEORD_ParRef -> oeord_adm_dr->paadm_papmi_dr as patid,\n",
    "\t\t\tOEORI_OEORD_ParRef -> oeord_adm_dr as admid,\n",
    "\t\t\tOEORI_ItmMast_DR -> Arcim_desc as drug, \n",
    "\t\t\tOEORI_ItemStat_DR->ostat_desc as status, \n",
    "\t\t\tOEORI_OEORD_ParRef||OEORI_Childsub As ord,\n",
    "\t\t\t* \n",
    "\t\tfrom SQLUser.OE_OrdItem)\n",
    "\t)\n",
    "\t&sql(DECLARE mycursor CURSOR FOR\n",
    "\t\tselect 医嘱 into :name from SQLUser.OrderViewCN where 登记号 = \"0000003481\" \n",
    "\t)\n",
    "\t&sql(OPEN mycursor)\n",
    "\t\n",
    "\tfor {\n",
    "\t\t&sql(FETCH mycursor)\n",
    "    \tQUIT:SQLCODE'=0\n",
    "    \tw name,!\n",
    "\t}\n",
    "\t&sql(CLOSE mycursor)\n",
    "}"
   ]
  },
  {
   "cell_type": "code",
   "execution_count": null,
   "metadata": {
    "vscode": {
     "languageId": "objectscript"
    }
   },
   "outputs": [],
   "source": []
  }
 ],
 "metadata": {
  "language_info": {
   "name": "python"
  }
 },
 "nbformat": 4,
 "nbformat_minor": 2
}
