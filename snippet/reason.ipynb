{
 "cells": [
  {
   "cell_type": "code",
   "execution_count": null,
   "metadata": {
    "vscode": {
     "languageId": "objectscript"
    }
   },
   "outputs": [],
   "source": [
    "w ##Class(web.DHCPAADMPrescType).GetPrescTypeByPAADM(\"O\",\"181\",\"2\",\"20\")\n",
    "; 处方类型 子类\n"
   ]
  }
 ],
 "metadata": {
  "language_info": {
   "name": "python"
  }
 },
 "nbformat": 4,
 "nbformat_minor": 2
}
