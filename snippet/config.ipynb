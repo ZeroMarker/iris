{
 "cells": [
  {
   "cell_type": "markdown",
   "metadata": {},
   "source": [
    "## 病理知情同意书\n",
    "检查分类维护\n",
    "打印模板"
   ]
  },
  {
   "cell_type": "markdown",
   "metadata": {},
   "source": [
    "## 科室排序\n",
    "挂号设置\n",
    "排序规则定义"
   ]
  },
  {
   "cell_type": "markdown",
   "metadata": {},
   "source": [
    "皮试用法\n",
    "医生站 用法设置\n",
    "特殊用法设置"
   ]
  },
  {
   "cell_type": "markdown",
   "metadata": {},
   "source": [
    "住院医嘱列表检索分类 全部检查检验 检查 检验\n",
    "\n",
    "医生站设置菜单\n",
    "子类扩展\n",
    "重分类"
   ]
  },
  {
   "cell_type": "markdown",
   "metadata": {},
   "source": [
    "## 代码模块数据维护\n",
    "草药备注"
   ]
  }
 ],
 "metadata": {
  "language_info": {
   "name": "python"
  }
 },
 "nbformat": 4,
 "nbformat_minor": 2
}
