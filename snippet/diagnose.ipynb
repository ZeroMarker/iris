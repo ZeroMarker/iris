{
 "cells": [
  {
   "cell_type": "code",
   "execution_count": null,
   "metadata": {
    "vscode": {
     "languageId": "objectscript"
    }
   },
   "outputs": [],
   "source": [
    "/// 诊断种类\n",
    "s BillFlag1=$P($G(^MRC(\"ID\",+ICDRowid)),\"^\",13)\n",
    "s BillFlag3=$P($G(^MRC(\"ID\",+ICDRowid)),\"^\",15)\n",
    "s DiagObj.DiagnosisClass=$SELECT((BillFlag1=\"Y\")&&(BillFlag3=\"Y\"):\"证型\",BillFlag3=\"Y\":\"中医\",1:\"西医\")\n"
   ]
  },
  {
   "cell_type": "code",
   "execution_count": null,
   "metadata": {
    "vscode": {
     "languageId": "objectscript"
    }
   },
   "outputs": [],
   "source": [
    "    if $g(Adm)=\"\" q \"\"\n",
    "\ts MRAdm=$p($g(^PAADM(Adm)),\"^\",61)\n",
    "\tq:$g(MRAdm)=\"\" \"\"\n",
    "\tSet DiagStr=\"\",Diag=0\n",
    "\tFor  Set Diag=$O(^MR(MRAdm,\"DIA\",Diag)) Quit:(Diag=\"\")  Do\n",
    "\t.Set DiagID=$P($g(^MR(MRAdm,\"DIA\",Diag)),\"^\",1)\n",
    "\t.s DiagTypeID=$o(^MR(MRAdm,\"DIA\",Diag,\"TYP\",0))\n",
    "\t.s TypeID=\"\",TypeDesc=\"\"\n",
    "\t.i DiagTypeID'=\"\" s TypeID=$p($g(^MR(MRAdm,\"DIA\",Diag,\"TYP\",DiagTypeID)),\"^\",1)\n",
    "\t.i TypeID'=\"\" s TypeDesc=$p($g(^MRC(\"DTYP\",TypeID)),\"^\",2)\n",
    "\t.q:((Type=\"ADM\")&&(TypeDesc'=\"入院诊断\"))\n",
    "\t.q:((Type=\"DIS\")&&(TypeDesc'=\"出院诊断\"))\n",
    "\t.q:((Type=\"Main\")&&(TypeDesc'=\"主诊断\"))\n",
    "\t.q:((Type=\"PRE\")&&(TypeDesc'=\"初步诊断\"))\n",
    "\t.q:((Type=\"OP\")&&(TypeDesc'=\"门诊诊断\"))\n",
    "    .s MainDiagFlag=$p($g(^MR(MRAdm,\"DIA\",Diag,1)),\"^\",20) //主诊断标志\n",
    "\t.if DiagID'=\"\" Set DiagDesc=$P($g(^MRC(\"ID\",DiagID)),\"^\",2)\n",
    "\t.else  Set DiagDesc=$g(^MR(MRAdm,\"DIA\",Diag,\"DES\",1))\n",
    "\t.;If DiagDesc[\"-\" Set DiagDesc=$P(DiagDesc,\"-\",2)\n",
    "\t.If $P($g(^MR(MRAdm,\"DIA\",Diag,1)),\"^\",20)=\"Y\" s DiagDesc=DiagDesc_\"(主)\"\n",
    "\t.If DiagStr=\"\" Set DiagStr=DiagDesc\n",
    "\t.Else  Set DiagStr=DiagStr_\",\"_DiagDesc\t\n",
    "\tquit DiagStr"
   ]
  },
  {
   "cell_type": "code",
   "execution_count": null,
   "metadata": {
    "vscode": {
     "languageId": "objectscript"
    }
   },
   "outputs": [],
   "source": [
    "/// @docs:\t诊断插入五笔首拼别名, 重复跳过不插入\n",
    "/// @debug:\td ##class(web.DHCDocMain).AddDiagAlias()\n",
    "/// @table:\n",
    "/// \t\tMRC_ICDDx\n",
    "/// \t\tMRC_ICDAlias\n",
    "ClassMethod AddDiagAlias()\n",
    "{\n",
    "\ts id = 0\n",
    "\tfor {\n",
    "\t\ts id = $o(^MRC(\"ID\",id))\n",
    "\t\tq:id=\"\"\n",
    "\t\ts name = $p(^MRC(\"ID\",id),\"^\",2)\n",
    "\t\ts name = ##class(web.DHCINSUPort).GetCNCODE(name,6,\"^\")\n",
    "\t\ts new = \"\"\n",
    "\t\tfor i=1:1:$l(name,\"^\") {\n",
    "\t\t\ts item = $p(name,\"^\",i)\n",
    "\t\t\ts item = $e(item,1,1)\n",
    "\t\t\ts new = new _ item\t\n",
    "\t\t}\n",
    "\t\ts k = 0\n",
    "\t\tfor {\n",
    "\t\t\ts k = $o(^MRC(\"ID\",id,\"ALIAS\",k))\n",
    "\t\t\tq:k=\"\"\n",
    "\t\t\ts alias = ^MRC(\"ID\",id,\"ALIAS\",k)\n",
    "\t\t\ts:alias=new repeat = 1\n",
    "\t\t}\n",
    "\t\tcontinue:$g(repeat)=1\n",
    "\t\ts res = ##class(web.DHCBL.CT.MRCICDAlias).SaveAll(\"^\"_new_\"^\"_id)\n",
    "\t}\n",
    "}\n"
   ]
  },
  {
   "cell_type": "code",
   "execution_count": null,
   "metadata": {
    "vscode": {
     "languageId": "plaintext"
    }
   },
   "outputs": [],
   "source": [
    "/// w ##class(web.DHCDocMain).GetDiagType(\"161127||6\")\n",
    "ClassMethod GetDiagType(DiagID) [ Language = objectscript ]\n",
    "{\n",
    "\tq:DiagID=\"\" \"\"\n",
    "\ts MRAdm = +DiagID\n",
    "\ts Diag = $p(DiagID,\"||\",2)\n",
    "\ts DiagTypeID=$o(^MR(MRAdm,\"DIA\",Diag,\"TYP\",0))\n",
    "\ts TypeID=\"\",TypeDesc=\"\"\n",
    "\ti DiagTypeID'=\"\" s TypeID=$p($g(^MR(MRAdm,\"DIA\",Diag,\"TYP\",DiagTypeID)),\"^\",1)\n",
    "\ti TypeID'=\"\" s TypeDesc=$p($g(^MRC(\"DTYP\",TypeID)),\"^\",2)\n",
    "\t\n",
    "\tq TypeDesc\n",
    "}"
   ]
  }
 ],
 "metadata": {
  "language_info": {
   "name": "python"
  }
 },
 "nbformat": 4,
 "nbformat_minor": 2
}
