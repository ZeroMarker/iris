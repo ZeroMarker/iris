{
 "cells": [
  {
   "cell_type": "code",
   "execution_count": null,
   "metadata": {
    "vscode": {
     "languageId": "objectscript"
    }
   },
   "outputs": [],
   "source": [
    ";医护人员类型\n",
    "s CareProvType=##class(web.DHCDocOrderCommon).GetCareProvType(USERID)"
   ]
  },
  {
   "cell_type": "code",
   "execution_count": null,
   "metadata": {
    "vscode": {
     "languageId": "objectscript"
    }
   },
   "outputs": [],
   "source": [
    ";医护人员 \n",
    ";用户 关联 医护人员\n",
    "s DocID=$P(^SSU(\"SSUSR\",UserID),\"^\",14)"
   ]
  },
  {
   "cell_type": "code",
   "execution_count": null,
   "metadata": {
    "vscode": {
     "languageId": "objectscript"
    }
   },
   "outputs": [],
   "source": [
    "\n",
    "s CPRowId=##class(web.SSUser).GetDefaultCareProvider(UserRowId)"
   ]
  }
 ],
 "metadata": {
  "language_info": {
   "name": "python"
  }
 },
 "nbformat": 4,
 "nbformat_minor": 2
}
