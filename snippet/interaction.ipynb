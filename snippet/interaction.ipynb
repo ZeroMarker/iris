{
 "cells": [
  {
   "cell_type": "code",
   "execution_count": null,
   "metadata": {},
   "outputs": [],
   "source": [
    "--应急系统业务数据回传时医生站的支持类, BILL.CES.BL.Import 回传应急系统数据到his时会调用\n",
    "DHCDoc.Interface.StandAlone.Import\n",
    "\n",
    "先看看有没有\n",
    "DHCDoc.Interface.StandAlone.Invoke"
   ]
  }
 ],
 "metadata": {
  "language_info": {
   "name": "python"
  }
 },
 "nbformat": 4,
 "nbformat_minor": 2
}
