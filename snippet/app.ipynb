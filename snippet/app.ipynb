{
 "cells": [
  {
   "cell_type": "code",
   "execution_count": null,
   "metadata": {
    "vscode": {
     "languageId": "objectscript"
    }
   },
   "outputs": [],
   "source": [
    "/**\n",
    "    * @description 获取部位描述\n",
    "    * @author Chen Hong Liang\n",
    "    * @date 2024-07-30\n",
    "    * @param {string} exec 医嘱执行记录ID\n",
    "    * @debug w ##class(web.DHCDocMain).GetPardDesc(\"5800||25||1\")\n",
    "*/\n",
    "ClassMethod GetPardDesc(exec)\n",
    "{\n",
    "\t/*\n",
    "\tselect * from DHC_AppReport ;\n",
    "\tselect * from DHC_AppRepArc ;\n",
    "\tselect * from DHC_AppRepPart ;\n",
    "\tselect * from DHC_AppRepPos ;\n",
    "\t*/\t\n",
    "\tq:exec=\"\" \"\"\n",
    "\tq:$l(exec,\"||\")'=3 \"\"\n",
    "    \n",
    "\ts item = $p(exec,\"||\",1,2)\n",
    "\ts arcim = $p($g(^OEORD(+item,\"I\",$p(item,\"||\",2),1)),\"^\",2)\n",
    "\ts desc = $p($g(^ARCIM(+arcim,1,1)),\"^\",2)\n",
    "\t&sql(select AR_RowID into :rowid from SQLUser.DHC_AppRepArc WHERE AR_OrdItem = :item)\n",
    "\tq:$g(rowid)=\"\" desc\n",
    "\ts rowid = rowid _ \"||\" _ $p(exec,\"||\",3)\n",
    "\t&sql(select AR_Part_Dr,AR_RowId into :Part, :PartRowid from SQLUser.DHC_AppRepPart where AR_RowID  = :rowid)\n",
    "\t&sql(select AR_Pos_Dr into :Pos from SQLUser.DHC_AppRepPos where AR_RepPart_Dr = :PartRowid)\n",
    "\ts:$g(Part)'=\"\" Part = \"[\"_$p($g(^DHCAPPART(Part)),\"^\",2)_\"]\"\n",
    "\ts:$g(Pos)'=\"\" Pos = $p($g(^DHCAPPOS(Pos)),\"^\",2)\n",
    "\ts desc = desc_$g(Part)_$g(Pos)\n",
    "\tq desc\n",
    "}"
   ]
  }
 ],
 "metadata": {
  "language_info": {
   "name": "python"
  }
 },
 "nbformat": 4,
 "nbformat_minor": 2
}
