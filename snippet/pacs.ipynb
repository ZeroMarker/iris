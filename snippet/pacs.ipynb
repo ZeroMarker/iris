{
 "cells": [
  {
   "cell_type": "markdown",
   "metadata": {},
   "source": [
    "\n",
    "## 病理菜单\n",
    "病理菜单 代码\n",
    "检查树 代码\n"
   ]
  },
  {
   "cell_type": "markdown",
   "metadata": {
    "vscode": {
     "languageId": "plaintext"
    }
   },
   "source": [
    "## 病理打印模板\n",
    "w ##Class(web.DHCDocAPPBL).GetPisPrintTemp(\"FLIV\",444895)"
   ]
  },
  {
   "cell_type": "code",
   "execution_count": null,
   "metadata": {
    "vscode": {
     "languageId": "plaintext"
    }
   },
   "outputs": [],
   "source": [
    "传染病史 送检目的\n",
    "\n",
    "病理基础字典"
   ]
  },
  {
   "cell_type": "code",
   "execution_count": null,
   "metadata": {
    "vscode": {
     "languageId": "plaintext"
    }
   },
   "outputs": [],
   "source": [
    "病理申请单链接\n",
    "\n",
    "检查分类与模板打印\n",
    "    医嘱项"
   ]
  }
 ],
 "metadata": {
  "language_info": {
   "name": "python"
  }
 },
 "nbformat": 4,
 "nbformat_minor": 2
}
