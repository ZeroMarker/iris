{
 "cells": [
  {
   "cell_type": "code",
   "execution_count": null,
   "metadata": {
    "vscode": {
     "languageId": "objectscript"
    }
   },
   "outputs": [],
   "source": [
    "CT_LocationList\n",
    "CT(\"LL\")\n",
    "会诊科室列表"
   ]
  },
  {
   "cell_type": "code",
   "execution_count": null,
   "metadata": {
    "vscode": {
     "languageId": "objectscript"
    }
   },
   "outputs": [],
   "source": [
    "/// 科室 获取 病区\n",
    "s Dept = ##class(web.DHCSTPHCMEMPPAT).GetLinkLoc(Dept)"
   ]
  }
 ],
 "metadata": {
  "language_info": {
   "name": "python"
  }
 },
 "nbformat": 4,
 "nbformat_minor": 2
}
