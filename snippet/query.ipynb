{
 "cells": [
  {
   "cell_type": "code",
   "execution_count": null,
   "metadata": {
    "vscode": {
     "languageId": "objectscript"
    }
   },
   "outputs": [],
   "source": [
    "%Query\n",
    "; query\n",
    "Query GetStudent() As %Query(ROWSPEC = \"Code:%String:学号,Name:%String:姓名,Sex:%String:性别,Birth:%String:生日\")\n",
    "{\n",
    "}\n",
    "\n",
    "/// Creator:        name\n",
    "/// CreatDate:      date\n",
    "/// Descript:       desc\n",
    "/// Table:          table\n",
    "/// Input:          args\n",
    "/// Return:         0:desc ，1：desc\n",
    "/// Debug:          d ##class(%ResultSet).RunQuery(\"web.Query\",\"GetStudent\")\n",
    "ClassMethod GetStudentExecute(ByRef qHandle As %Binary) As %Status\n",
    "{\n",
    "\tset repid=$i(^CacheTemp)\n",
    "    set ind=1\n",
    "    \n",
    "    set id=0\n",
    "    for\n",
    "    {\n",
    "        s id=$o(^User.StudentD(id))\n",
    "        q:id=\"\"\n",
    "\t\t\n",
    "        d OutputRow  \n",
    "    }\n",
    "    set qHandle=$lb(0,repid,0)\n",
    "    quit $$$OK\n",
    "OutputRow\n",
    "\tset Data=$lb(Code,Name,Sex,Birth)\n",
    "    set ^CacheTemp(repid,ind)=Data\n",
    "    set ind=ind+1\n",
    "    quit\n",
    "}\n",
    "\n",
    "ClassMethod GetStudentClose(ByRef qHandle As %Binary) As %Status [ PlaceAfter = GetStudentExecute ]\n",
    "{\n",
    "\tSet repid=$LIST(qHandle,2)\n",
    "\tKill ^CacheTemp(repid)\n",
    "\tQuit $$$OK\n",
    "}\n",
    "\n",
    "ClassMethod GetStudentFetch(ByRef qHandle As %Binary, ByRef Row As %List, ByRef AtEnd As %Integer = 0) As %Status [ PlaceAfter = GetStudentExecute ]\n",
    "{\n",
    "\tSet AtEnd=$LIST(qHandle,1)\n",
    "\tSet repid=$LIST(qHandle,2)\n",
    "\tSet ind=$LIST(qHandle,3)\n",
    "\t//\n",
    "\tSet ind=$o(^CacheTemp(repid,ind))\n",
    "\tIf ind=\"\" {\t\t\t\t// if there are no more rows, finish fetching\n",
    "\t\tSet AtEnd=1\n",
    "\t\tSet Row=\"\"\n",
    "\t}\n",
    "\tElse      {\t\t\t\t// fetch row\n",
    "\t\tSet Row=^CacheTemp(repid,ind)\n",
    "\t}\n",
    "\t// Save QHandle\n",
    "\ts qHandle=$lb(AtEnd,repid,ind)\n",
    "\tQuit $$$OK\n",
    "}"
   ]
  },
  {
   "cell_type": "code",
   "execution_count": null,
   "metadata": {
    "vscode": {
     "languageId": "objectscript"
    }
   },
   "outputs": [],
   "source": [
    ";Query On Query\n",
    "// 1st way\n",
    "s query = ##class(%ResultSet).%New(\"web.PAAdm:QueryItem\")\n",
    "\n",
    "// 2rd way\n",
    "s query = ##class(%ResultSet).%New()\n",
    "s query.ClassName=\"web.PAAdm\"\n",
    "s query.QueryName=\"QueryItem\"\n",
    "\n",
    "if query.QueryIsValid() {\n",
    "    s rc = query.Execute(Code,Desc)\n",
    "    while (query.Next()) {\n",
    "        s Code = query.Data(\"Code\")\n",
    "        if Code = 2 {\n",
    "            s desc = query.Data(\"desc\")\n",
    "        }\n",
    "    }\n",
    "}\n",
    "d query.%Close()\n",
    "q amount"
   ]
  },
  {
   "cell_type": "code",
   "execution_count": null,
   "metadata": {
    "vscode": {
     "languageId": "objectscript"
    }
   },
   "outputs": [],
   "source": [
    "%websys.Query\n",
    "Query FindDiagStatusBroker() As websys.Query(ROWSPEC = \"DSTATRowId:%String,DSTATDesc:%String,DSTATCode:%String\")\n",
    "{\n",
    "}\n",
    "\n",
    "/// debug:\td ##class(%ResultSet).RunQuery(\"DHCDoc.DHCDocConfig.CNMedCode\", \"FindDiagStatusBroker\")\n",
    "/// [ ProcedureBlock = 0 ] 前台没有输出，很神奇\n",
    "ClassMethod FindDiagStatusBrokerExecute(ByRef qHandle As %Binary) As %Status [ ProcedureBlock = 1 ]\n",
    "{\n",
    "\ts repid = $i(^CacheTemp)\n",
    "\ts ind = 1\n",
    "\ts qHandle = $lb(0, repid, 0)\n",
    "\ts languageId = ..%LanguageID()\n",
    "\t\n",
    "\ts rs=##class(%ResultSet).%New(\"DHCDoc.DHCDocConfig.CNMedCode:FindDiagStatus\")\n",
    "\tif rs.QueryIsValid(){\n",
    "\t\ts status = rs.Execute()\n",
    "\t\tif (status) {\n",
    "\t\t\ts columnCount = rs.GetColumnCount()\n",
    "\t\t\twhile rs.Next() {\n",
    "\t\t\t\ts rowLB = \"\"\n",
    "\t\t\t\tfor i = 1:1:columnCount {\n",
    "\t\t\t\t\ts value = rs.GetData(i)\n",
    "\t\t\t\t\tif (rs.GetColumnName(i) = \"DSTATDesc\") {\n",
    "\t\t\t\t\t\ts value = ..%TranslateTableFieldValue(\"User.MRCDiagnosStatus\", \"DSTATDesc\", value, languageId)\n",
    "\t\t\t\t\t}\n",
    "\t\t\t\t\ts rowLB = rowLB_$lb(value)\n",
    "\t\t\t\t}\n",
    "\t\t\t\td:rowLB'=\"\" OutputRow\n",
    "\t\t\t}\n",
    "\t\t}\n",
    "\t}\n",
    "\tQuit $$$OK\n",
    "\n",
    "OutputRow\n",
    "\ts Data = rowLB\n",
    "\ts ^CacheTemp(repid, ind) = Data\n",
    "\ts ind = ind + 1\n",
    "\tq\n",
    "}"
   ]
  }
 ],
 "metadata": {
  "language_info": {
   "name": "python"
  }
 },
 "nbformat": 4,
 "nbformat_minor": 2
}
