{
 "cells": [
  {
   "cell_type": "code",
   "execution_count": null,
   "metadata": {
    "vscode": {
     "languageId": "objectscript"
    }
   },
   "outputs": [],
   "source": [
    "/// 获取诊室\n",
    "/// w ##class(web.DHCDocMain).GetRoomByEpisodeID(9127)\n",
    "ClassMethod GetRoomByEpisodeID(EpisodeID)\n",
    "{\n",
    "\tq:EpisodeID=\"\" \"\"\n",
    "\ts regfee = $o(^User.DHCRegistrationFeeI(\"ADM\",\" \"_EpisodeID,0))\n",
    "\ts rbas = $lg(^User.DHCRegistrationFeeD(regfee),18)\n",
    "\tq:rbas=\"\" \"\"\n",
    "\ts room = $p(^RBAS(+rbas,$p(rbas,\"||\",2),\"DHC\"),\"^\",5)\n",
    "\ts eff = $p(^RBAS(+rbas,$p(rbas,\"||\",2)),\"^\",12)\n",
    "\tb ;;;;\n",
    "\ts:((eff'=\"\")&&($g(room)=\"\")) room = $p($g(^RB(\"RES\",+eff,\"DATE\",$p(eff,\"||\",2),\"SESS\",$p(eff,\"||\",3))),\"^\",19)\n",
    "\tq:room=\"\" \"\"\n",
    "\ts desc = $p($g(^CTLOC(room)),\"^\",2)\n",
    "\tq desc\n",
    "}"
   ]
  },
  {
   "cell_type": "code",
   "execution_count": null,
   "metadata": {
    "vscode": {
     "languageId": "objectscript"
    }
   },
   "outputs": [],
   "source": [
    "/// 批量更新坐诊信息\n",
    "/// w ##class(web.DHCDocMain).UpdateSess()\n",
    "ClassMethod UpdateSess()\n",
    "{\n",
    "\ts res = 0\n",
    "\tfor {\n",
    "\t\ts res = $o(^RB(\"RES\",res))\n",
    "\t\tq:res=\"\"\n",
    "\t\ts date = 0\n",
    "\t\tfor {\n",
    "\t\t\ts date = $o(^RB(\"RES\",res,\"DATE\",date))\n",
    "\t\t\tq:date=\"\"\n",
    "\t\t\ts sess = 0\n",
    "\t\t\tfor {\n",
    "\t\t\t\ts sess = $o(^RB(\"RES\",res,\"DATE\",date,\"SESS\",sess))\n",
    "\t\t\t\tq:sess=\"\"\n",
    "\t\t\t\t;[{\"AQRowid\":\"260||1||16||1\",\"AppMethodID\":\"1\",\"AppMethod\":\"窗口预约\",\"MaxQty\":\"30\",\"ReserveQty\":\"\",\"StartNo\":\"\"}]\n",
    "\t\t\t\ts aq = $o(^RB(\"RES\",res,\"Date\",date,\"SESS\",sess,\"AQ\",0))\n",
    "\t\t\t\ts json = []\n",
    "\t\t\t\ts item = {}\n",
    "\t\t\t\tif (aq = \"\") {\n",
    "\t\t\t\t\ts item.AQRowid = \"\"\n",
    "\t\t\t\t}\n",
    "\t\t\t\telse {\n",
    "\t\t\t\t\ts item.AQRowid = res_\"||\"_date_\"||\"_sess_\"||\"_aq\t\n",
    "\t\t\t\t}\n",
    "\t\t\t\ts appNum=$p($g(^RB(\"RES\",res,\"DATE\",date,\"SESS\",sess)),\"^\",1)\n",
    "\t\t\t\ts item.AppMethodID = 1\n",
    "\t\t\t\ts item.AppMethod = \"窗口预约\"\n",
    "\t\t\t\ts item.MaxQty = appNum\n",
    "\t\t\t\ts item.ReserveQty = \"\"\n",
    "\t\t\t\ts item.StartNo = \"\"\n",
    "\t\t\t\t\n",
    "\t\t\t\td json.%Push(item)\n",
    "\t\t\t\ts json = json.%ToJSON()\n",
    "\t\t\t\ts rtn = ##class(DHCDoc.OPAdm.ScheduleTemp).SaveTempAppMethodNew(res_\"||\"_date_\"||\"_sess,json)\n",
    "\t\t\t}\t\n",
    "\t\t}\t\n",
    "\t}\n",
    "\tq 0\n",
    "\t;^RB(\"RES\",{RB_Resource.RES_RowId},\"DATE\",{RB_ResEffDate.DATE_Childsub},\"SESS\",{SESS_Childsub})\n",
    "}"
   ]
  }
 ],
 "metadata": {
  "language_info": {
   "name": "python"
  }
 },
 "nbformat": 4,
 "nbformat_minor": 2
}
