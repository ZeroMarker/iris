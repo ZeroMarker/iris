{
 "cells": [
  {
   "cell_type": "code",
   "execution_count": null,
   "metadata": {
    "vscode": {
     "languageId": "objectscript"
    }
   },
   "outputs": [],
   "source": [
    ";挂号可用号源\n",
    ";加号 过时段可用\n"
   ]
  },
  {
   "cell_type": "code",
   "execution_count": null,
   "metadata": {
    "vscode": {
     "languageId": "objectscript"
    }
   },
   "outputs": [],
   "source": [
    "/// @docs:\t获取医生排班开始时间\n",
    "/// @debug:\tw ##class(web.DHCDocMain).GetScheduleStartTime(224,+$h)\n",
    "/// @param:\t\n",
    "/// \t\t\tDoctorId:\t@table CT_CareProv\n",
    "/// \t\t\tDate:\t\t%Date\n",
    "/// @output:\t上午开始时间^下午开始时间\n",
    "ClassMethod GetScheduleStartTime(DoctorId As %String, date As %String) As %String [ Language = objectscript ]\n",
    "{\n",
    "\tq:date=\"\" \"\"\n",
    "\tq:DoctorId=\"\" \"\"\n",
    "\t;s Loc = $p(^CTPCP(DoctorId,3),\"^\",3)\n",
    "\t;s ResRowId = $o(^RB(\"RES\",0,\"CTPCP\",Loc,DoctorId,0))\n",
    "\t;^RBAS(0,\"Date\",{AS_Date},{RB_Resource.RES_RowId},{AS_ChildSub})\n",
    "\t;出诊时段\n",
    "\t&sql(\n",
    "\t\tSELECT RES_RowId1 into :ResRowId from SQLUser.RB_Resource \n",
    "\t\twhere RES_CTPCP_DR = :DoctorId\n",
    "\t\t\tand RES_CTLOC_DR->ctloc_desc like \"%门诊%\"\n",
    "\t)\n",
    "\tb ;;;; res\n",
    "\tq:$g(ResRowId)=\"\" \"\"\n",
    "\ts time1 = \"\" , time2 = \"\"\n",
    "\ts ASChildSub = 0\n",
    "\tfor {\n",
    "\t\ts ASChildSub = $o(^RBAS(0,\"Date\",date,ResRowId,ASChildSub))\n",
    "\t\tq:ASChildSub=\"\"\n",
    "\t\tb ;;;\n",
    "\t\tSet SessionStartTime=$p(^RBAS(ResRowId,ASChildSub),\"^\",4)\n",
    "\t\t;s SessionStartTime=..%ZT(SessionStartTime,1)\n",
    "\t\tset SessionTimeID=$P($G(^RBAS(ResRowId,ASChildSub,\"DHC\")),\"^\",17)\n",
    "\t\tif SessionTimeID'=\"\" s SessionTimeName=$P($G(^DHCTimeRange(SessionTimeID)),\"^\",2)\n",
    "\t\tif $g(SessionTimeName) = \"上午\" s time1 = SessionStartTime\n",
    "\t\tif $g(SessionTimeName) = \"下午\" s time2 = SessionStartTime\n",
    "\t}\n",
    "\t\n",
    "\t;^RB(\"RES\",0,\"CTPCP\",{RES_CTPCP_DR},{RES_CTLOC_DR},{RES_RowId})\n",
    "\t;^RB(\"RES\",0,\"CTLOC\",{RES_CTLOC_DR},{RES_RowId})\n",
    "\tq time1 _ \"^\" _ time2\n",
    "}\n",
    "\n",
    "/// @docs:\t获取指定时间排班数量\n",
    "/// @debug:\tw ##class(web.DHCDocMain).GetScheduleCount(10,+$h,+$h)\n",
    "/// @param:\n",
    "/// \t\tLoc\t\t@table:\tCT_Loc\n",
    "/// \t\tStart\t%Date\n",
    "/// \t\tEnd\t\t%Date\n",
    "/// @output:\tcount\n",
    "ClassMethod GetScheduleCount(Loc As %String, Start As %String, End As %String) As %String [ Language = objectscript ]\n",
    "{\n",
    "\tq:Loc=\"\" \"\"\n",
    "\tq:Start=\"\" \"\"\n",
    "\tq:End=\"\" \"\"\n",
    "\ts count = 0\n",
    "\tfor date=Start:1:End{\n",
    "\t\ts ResRowId = 0\n",
    "\t\tfor {\n",
    "\t\t\ts ResRowId = $o(^RBAS(0,\"Date\",date,ResRowId))\n",
    "\t\t\tq:ResRowId=\"\"\n",
    "\t\t\tSet DepID=$p($g(^RB(\"RES\",ResRowId)),\"^\",1)\n",
    "\t\t\tcontinue:DepID'=Loc\n",
    "\t\t\ts ASChildSub = 0\n",
    "\t\t\tfor {\n",
    "\t\t\t\ts ASChildSub = $o(^RBAS(0,\"Date\",date,ResRowId,ASChildSub))\n",
    "\t\t\t\tq:ASChildSub=\"\"\n",
    "\t\t\t\t;状态\n",
    "\t\t\t\tSet StatusDr=$P($G(^RBAS(ResRowId,ASChildSub,\"DHC\")),\"^\",10)\n",
    "\t\t\t\ti StatusDr'=\"\" {\n",
    "\t\t\t\t\ts Status=$P($G(^DHCRBCASStatus(StatusDr)),\"^\",1)\n",
    "\t\t\t\t\ts StatusDesc=$P($G(^DHCRBCASStatus(StatusDr)),\"^\",2)\n",
    "\t\t\t\t\tcontinue:(StatusDesc'=\"正常\")&&((StatusDesc'=\"替诊\"))\n",
    "\t\t\t\t\ts ASIrregularFlag=$p($g(^RBAS(ResRowId,ASChildSub)),\"^\",13)\n",
    "\t\t\t\t\t;默认是不找不规则出诊记录的\n",
    "\t\t\t\t\tcontinue:ASIrregularFlag=\"A\"\n",
    "\t\t\t\t\ts count = count +  1\n",
    "\t\t\t\t}\t\n",
    "\t\t\t}\n",
    "\t\t}\n",
    "\t}\n",
    "\t;^RB(\"RES\",0,\"CTPCP\",{RES_CTPCP_DR},{RES_CTLOC_DR},{RES_RowId})\n",
    "\t;^RB(\"RES\",0,\"CTLOC\",{RES_CTLOC_DR},{RES_RowId})\n",
    "\tq count\n",
    "}"
   ]
  },
  {
   "cell_type": "code",
   "execution_count": null,
   "metadata": {
    "vscode": {
     "languageId": "objectscript"
    }
   },
   "outputs": [],
   "source": [
    "pageCode:\"dhcrbresourceuse.hui.csp\",\n",
    "pageName:\"护士加号权限管理\",\n",
    "^User.DHCUserGroupD"
   ]
  }
 ],
 "metadata": {
  "language_info": {
   "name": "python"
  }
 },
 "nbformat": 4,
 "nbformat_minor": 2
}
