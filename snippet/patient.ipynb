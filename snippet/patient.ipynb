{
 "cells": [
  {
   "cell_type": "code",
   "execution_count": null,
   "metadata": {
    "vscode": {
     "languageId": "objectscript"
    }
   },
   "outputs": [],
   "source": [
    "Set PatientID = $ORDER(^PAPERi(\"PAPMI_PatNo\",PatNo,0))\n",
    "Set EpisodeID = 0\n",
    "For {\n",
    "\tSet EpisodeID = $o(^PAPERdr(PatientID,\"ADM\",\"O\",EpisodeID))\n",
    "\tQuit:EpisodeID=\"\"\n",
    "\tSet ord = 0\n",
    "\tFor {\n",
    "\t\tSet ord = $o(^OEORD(0,\"Adm\",EpisodeID,ord))\n",
    "\t\tQuit:ord=\"\"\n",
    "\t\tSet item = 0\n",
    "\t\tFor {\n",
    "\t\t\tSet item = $o(^OEORD(ord,\"I\",item))\n",
    "            Quit:item=\"\"\n",
    "\t\t\ts stat=$p($g(^OEORD(ord,\"I\",item,1)),\"^\",13)\n",
    "\t\t\ts:+stat>0 stat = $p(^OEC(\"OSTAT\",stat),\"^\",1)\n",
    "\t\t\tcontinue:(stat'=\"E\")&&(stat'=\"V\")\n",
    "\t\t\ts arcim = $p($g(^OEORD(ord,\"I\",item,1)),\"^\",2)\n",
    "\t\t\ts cat = $p($g(^ARCIM(+arcim,1,1)),\"^\",1)\n",
    "            Set exe = 0\n",
    "            For {\n",
    "                Set exe = $o(^OEORD(ord,\"I\",item,\"X\",exe))\n",
    "                Quit:exe=\"\"\n",
    "\t\t\t\ts exeStat = $p($g(^OEORD(ord,\"I\",item,\"X\",exe)),\"^\",16)\n",
    "                s:exeStat'=\"\" exeStatCode = $p($g(^OEC(\"STAT\",exeStatusId)),\"^\",1)\n",
    "                continue:$g(exeStatCode)'=\"F\"\n",
    "            }\n",
    "\t\t}\n",
    "\t}\n",
    "}\n"
   ]
  },
  {
   "cell_type": "code",
   "execution_count": null,
   "metadata": {
    "vscode": {
     "languageId": "objectscript"
    }
   },
   "outputs": [],
   "source": [
    "/**\n",
    "\t* @debug w ##class(web.DHCDocMain).Pinyin(\"魏方茜\")\n",
    "*/\n",
    "ClassMethod Pinyin(Name)\n",
    "{\n",
    "\tq:Name=\"\" \"\"\n",
    "\ts out = \"\"\n",
    "\ts name = ##class(web.DHCINSUPort).GetCNCODE(Name,3,\" \")\n",
    "\tfor i=1:1:$l(name,\" \") {\n",
    "\t\ts one = $p(name,\" \",i)\n",
    "\t\ts one = $e(one,1,1) _ $zcvt($e(one,2,$l(one)),\"l\")\n",
    "\t\tif out = \"\" {\n",
    "\t\t\ts out = one\t\n",
    "\t\t}\n",
    "\t\telse {\n",
    "\t\t\ts out = out _ \" \" _ one\t\n",
    "\t\t}\n",
    "\t}\n",
    "\tq out\n",
    "}"
   ]
  },
  {
   "cell_type": "code",
   "execution_count": null,
   "metadata": {
    "vscode": {
     "languageId": "objectscript"
    }
   },
   "outputs": [],
   "source": [
    ";获取就诊医院\n",
    "s HospID=##class(DHCDoc.Common.Hospital).GetAdmHospitalId(EpisodeId)"
   ]
  },
  {
   "cell_type": "code",
   "execution_count": null,
   "metadata": {
    "vscode": {
     "languageId": "objectscript"
    }
   },
   "outputs": [],
   "source": [
    ";获取默认费别\n",
    "w ##class(web.DHCDocOrderCommon).GetDefaultPrescriptType(EpisodeID,\"\")\n",
    "\n",
    ";获取所有费别\n",
    "##class(web.DHCDocOrderCommon).GetPrescriptTypeInfo()"
   ]
  }
 ],
 "metadata": {
  "language_info": {
   "name": "python"
  }
 },
 "nbformat": 4,
 "nbformat_minor": 2
}
