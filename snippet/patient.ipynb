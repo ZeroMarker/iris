{
 "cells": [
  {
   "cell_type": "code",
   "execution_count": null,
   "metadata": {
    "vscode": {
     "languageId": "objectscript"
    }
   },
   "outputs": [],
   "source": [
    "\tSet PatientID = $ORDER(^PAPERi(\"PAPMI_PatNo\",PatNo,0))\n",
    "\tSet AdmType = 0\n",
    "\tFor {\n",
    "\t\tSet AdmType = $o(^PAPERdr(PatientID,\"ADM\",AdmType))\n",
    "\t\tq:AdmType=\"\"\n",
    "\t\tSet EpisodeID = 0\n",
    "\t\tFor {\n",
    "\t\t\tSet EpisodeID = $o(^PAPERdr(PatientID,\"ADM\",AdmType,EpisodeID))\n",
    "\t\t\tQuit:EpisodeID=\"\"\n",
    "\t\t\tSet ord = 0\n",
    "\t\t\tFor {\n",
    "\t\t\t\tSet ord = $o(^OEORD(0,\"Adm\",EpisodeID,ord))\n",
    "\t\t\t\tQuit:ord=\"\"\n",
    "\t\t\t\tSet item = 0\n",
    "\t\t\t\tFor {\n",
    "\t\t\t\t\tSet item = $o(^OEORD(ord,\"I\",item))\n",
    "\t\t            Quit:item=\"\"\n",
    "\t\t\t\t\ts stat=$p($g(^OEORD(ord,\"I\",item,1)),\"^\",13)\n",
    "\t\t\t\t\ts:stat'=\"\" stat = $p(^OEC(\"OSTAT\",stat),\"^\",1)\n",
    "\t\t\t\t\tcontinue:(stat'=\"E\")&&(stat'=\"V\")\n",
    "\t\t\t\t\ts stt = $p($g(^OEORD(ord,\"I\",item,1)),\"^\",9)\n",
    "\t\t\t\t\ts date = $p($g(^OEORD(ord,\"I\",item,3)),\"^\",7)\n",
    "\t\t\t\t\ts time = $p($g(^OEORD(ord,\"I\",item,3)),\"^\",15)\n",
    "\t\t\t\t\ts loc = $p($g(^OEORD(ord,\"I\",item,1)),\"^\",3)\n",
    "\t\t\t\t\ts arcim = $p($g(^OEORD(ord,\"I\",item,1)),\"^\",2)\n",
    "\t\t\t\t\ts cat = $p($g(^ARCIM(+arcim,1,1)),\"^\",10)\n",
    "\t\t            Set exe = 0\n",
    "\t\t            For {\n",
    "\t\t                Set exe = $o(^OEORD(ord,\"I\",item,\"X\",exe))\n",
    "\t\t                Quit:exe=\"\"\n",
    "\t\t\t\t\t\ts exeStat = $p($g(^OEORD(ord,\"I\",item,\"X\",exe)),\"^\",16)\n",
    "\t\t                s:exeStat'=\"\" exeStatCode = $p($g(^OEC(\"STAT\",exeStatusId)),\"^\",1)\n",
    "\t\t                continue:$g(exeStatCode)'=\"F\"\n",
    "\t\t            }\n",
    "\t\t\t\t}\n",
    "\t\t\t}\n",
    "\t\t}\n",
    "\t}\n"
   ]
  },
  {
   "cell_type": "code",
   "execution_count": null,
   "metadata": {
    "vscode": {
     "languageId": "objectscript"
    }
   },
   "outputs": [],
   "source": [
    "/**\n",
    "\t* @debug w ##class(web.DHCDocMain).Pinyin(\"魏方茜\")\n",
    "*/\n",
    "ClassMethod Pinyin(Name)\n",
    "{\n",
    "\tq:Name=\"\" \"\"\n",
    "\ts out = \"\"\n",
    "\ts name = ##class(web.DHCINSUPort).GetCNCODE(Name,3,\" \")\n",
    "\tfor i=1:1:$l(name,\" \") {\n",
    "\t\ts one = $p(name,\" \",i)\n",
    "\t\ts one = $e(one,1,1) _ $zcvt($e(one,2,$l(one)),\"l\")\n",
    "\t\tif out = \"\" {\n",
    "\t\t\ts out = one\t\n",
    "\t\t}\n",
    "\t\telse {\n",
    "\t\t\ts out = out _ \" \" _ one\t\n",
    "\t\t}\n",
    "\t}\n",
    "\tq out\n",
    "}"
   ]
  },
  {
   "cell_type": "code",
   "execution_count": null,
   "metadata": {
    "vscode": {
     "languageId": "objectscript"
    }
   },
   "outputs": [],
   "source": [
    ";获取就诊医院\n",
    "s HospID=##class(DHCDoc.Common.Hospital).GetAdmHospitalId(EpisodeId)"
   ]
  },
  {
   "cell_type": "code",
   "execution_count": null,
   "metadata": {
    "vscode": {
     "languageId": "objectscript"
    }
   },
   "outputs": [],
   "source": [
    ";获取默认费别\n",
    "w ##class(web.DHCDocOrderCommon).GetDefaultPrescriptType(EpisodeID,\"\")\n",
    "\n",
    ";获取所有费别\n",
    "##class(web.DHCDocOrderCommon).GetPrescriptTypeInfo()"
   ]
  },
  {
   "cell_type": "code",
   "execution_count": null,
   "metadata": {
    "vscode": {
     "languageId": "objectscript"
    }
   },
   "outputs": [],
   "source": [
    "Query OPOrd(start, end) As websys.Query(ROWSPEC = \"写门诊病历人次:%String,未写门诊病历人次:%String,有医嘱费用人次:%String,无医嘱费用人次:%String\") [ SqlProc ]\n",
    "{\n",
    "}\n",
    "\n",
    "/// debug:\td ##class(%ResultSet).RunQuery(\"web.DHCDocMain\", \"OPOrd\")\n",
    "/// call web.dhcdocmain_opord('2025-01-01','2025-01-04');\n",
    "ClassMethod OPOrdExecute(ByRef qHandle As %Binary, start, end) As %Status\n",
    "{\n",
    "\ts repid = $i(^CacheTemp)\n",
    "\ts ind = 1\n",
    "\ts qHandle = $lb(0, repid, 0)\n",
    "\t;s languageId = ..%LanguageID()\n",
    "\ts start = $case($g(start),\"\":+$h,:$zdh(start,3))\n",
    "\ts end = $case($g(end),\"\":+$h,:$zdh(end,3))\n",
    "\tfor date=start:1:end {\n",
    "\t\ts EpisodeID = 0\n",
    "\t\tfor {\n",
    "\t\t\ts EpisodeID = $o(^PAADMi(\"PAADM_AdmDate\",date,EpisodeID))\n",
    "\t\t\tq:EpisodeID=\"\"\n",
    "\t\t\ts AdmType = $p($g(^PAADM(EpisodeID)),\"^\",2)\n",
    "\t\t\tcontinue:AdmType=\"I\"\n",
    "\t\t\ts admSum = $g(admSum) + 1\n",
    "\t\t\ts MZRecordStatus=##class(DHCDoc.Interface.Inside.InvokeOPAdm).GetMZRecordStatus(EpisodeID)\n",
    "\t\t\ts:MZRecordStatus=\"已签\" hasRecord = $g(hasRecord) + 1\n",
    "\t\t\ts flag = 0\n",
    "\t\t\tSet ord = 0\n",
    "\t\t\tFor {\n",
    "\t\t\t\tSet ord = $o(^OEORD(0,\"Adm\",EpisodeID,ord))\n",
    "\t\t\t\tQuit:ord=\"\"\n",
    "\t\t\t\tSet item = 0\n",
    "\t\t\t\tFor {\n",
    "\t\t\t\t\tSet item = $o(^OEORD(ord,\"I\",item))\n",
    "\t\t            Quit:item=\"\"\n",
    "\t\t\t\t\ts stat=$p($g(^OEORD(ord,\"I\",item,1)),\"^\",13)\n",
    "\t\t\t\t\ts:stat'=\"\" stat = $p(^OEC(\"OSTAT\",stat),\"^\",1)\n",
    "\t\t\t\t\tcontinue:(stat'=\"E\")&&(stat'=\"V\")\n",
    "\t\t\t\t\ts arcim = $p($g(^OEORD(ord,\"I\",item,1)),\"^\",2)\n",
    "\t\t\t\t\ts cat = $p($g(^ARCIM(+arcim,1,1)),\"^\",1)\n",
    "\t\t            s flag = 1\n",
    "\t\t\t\t}\n",
    "\t\t\t}\n",
    "\t\t\ts:flag=1 hasOrd = $g(hasOrd)+1\n",
    "\t\t}\n",
    "\t}\n",
    "\td OutputRow\n",
    "\tQuit $$$OK\n",
    "\n",
    "OutputRow\n",
    "\ts Data = $lb($g(hasRecord), $g(admSum) - $g(hasRecord), $g(hasOrd), $g(admSum) - $g(hasOrd))\n",
    "\ts ^CacheTemp(repid, ind) = Data\n",
    "\ts ind = ind + 1\n",
    "\tq\n",
    "}"
   ]
  }
 ],
 "metadata": {
  "language_info": {
   "name": "python"
  }
 },
 "nbformat": 4,
 "nbformat_minor": 2
}
