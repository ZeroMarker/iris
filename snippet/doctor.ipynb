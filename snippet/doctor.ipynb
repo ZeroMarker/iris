{
 "cells": [
  {
   "cell_type": "code",
   "execution_count": null,
   "metadata": {
    "vscode": {
     "languageId": "objectscript"
    }
   },
   "outputs": [],
   "source": [
    "for {\n",
    "    s RESRowId=$o(^RB(\"RES\",0,\"CTLOC\",LocId,RESRowId))\n",
    "    Q:RESRowId=\"\"\n",
    "    s DocId=$p($g(^RB(\"RES\",RESRowId)),\"^\",2)\n",
    "    continue:DocId=\"\"\n",
    "    d OutputRow(DocId)\n",
    "}"
   ]
  },
  {
   "cell_type": "code",
   "execution_count": null,
   "metadata": {
    "vscode": {
     "languageId": "objectscript"
    }
   },
   "outputs": [],
   "source": [
    "s docName=$p(^SSU(\"SSUSR\",ssid),\"^\",2)\t//\n",
    "s ctCareProvId=$p(^SSU(\"SSUSR\",ssid),\"^\",14)\t//CTCareProv\n",
    "s ctCarPrvTpId=$p(^CTPCP(ctCareProvId,1),\"^\",4)\t//CTCarPrvTp\n",
    "s ctCarPrvTpDesc=$p(^CT(\"CPT\",ctCarPrvTpId),\"^\",2)"
   ]
  }
 ],
 "metadata": {
  "language_info": {
   "name": "python"
  }
 },
 "nbformat": 4,
 "nbformat_minor": 2
}
