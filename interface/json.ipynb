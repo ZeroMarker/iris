{
 "cells": [
  {
   "cell_type": "code",
   "execution_count": null,
   "metadata": {
    "vscode": {
     "languageId": "plaintext"
    }
   },
   "outputs": [],
   "source": [
    "s status = ##class(web.DHCENS.STBLL.DICTNew.METHOD.Common).ObjectToJSONStream(bodyobj,.stream)"
   ]
  },
  {
   "cell_type": "code",
   "execution_count": null,
   "metadata": {
    "vscode": {
     "languageId": "plaintext"
    }
   },
   "outputs": [],
   "source": [
    "/// d ##class(web.DHCDocMain).Test()\n",
    "ClassMethod Test()\n",
    "{\n",
    "\ts obj = ##class(User.PAPatMas).%OpenId(1)\n",
    "\t; obj to json\n",
    "\ts jsonObj = ##class(web.JsonObject).%New()\n",
    " \ts json = jsonObj.FromObjectNew(obj).Json()\n",
    " \tw json\n",
    "}"
   ]
  }
 ],
 "metadata": {
  "language_info": {
   "name": "python"
  }
 },
 "nbformat": 4,
 "nbformat_minor": 2
}
