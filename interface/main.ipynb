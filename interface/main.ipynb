{
 "cells": [
  {
   "cell_type": "markdown",
   "metadata": {},
   "source": [
    "## 合理用药\n",
    "\n",
    "- web.DHCDocHLYYInterface\n",
    "- web.DHCDocHLYYDHC\n",
    "- web.DHCDocHLYYDHCV2\n",
    "- dhcdoc/DHCDocHLYYDHC.js\n"
   ]
  },
  {
   "cell_type": "markdown",
   "metadata": {},
   "source": [
    "## 人工审方\n",
    "dhcdoc/interface/prescAudit.js\n"
   ]
  },
  {
   "cell_type": "markdown",
   "metadata": {},
   "source": [
    "## 处方流转\n",
    "dhcdoc/interface/OutPresc.js\n",
    "dhcdoc/interface/oeorder.outpresc.print.js"
   ]
  },
  {
   "cell_type": "markdown",
   "metadata": {
    "vscode": {
     "languageId": "objectscript"
    }
   },
   "source": [
    "## 应急系统\n",
    "/// Filename         :DHCDoc.Interface.StandAlone.Import\n",
    "/// Description      :应急系统业务调用his的方法\n",
    "/// Time             :2021/11/19\n",
    "/// Author           :zhouc\n",
    "Class DHCDoc.Interface.StandAlone.Invoke Extends Base"
   ]
  },
  {
   "cell_type": "markdown",
   "metadata": {},
   "source": [
    "## 合理用药 回调参数\n",
    "\n",
    "```JS\n",
    "// scripts/dhcdoc/DHCDocHLYYDHC.js\n",
    "function DHCUpdateClick_Check(CallBackFunc,OrderItemStr,Mode) {\n",
    "\t\n",
    "\tnew Promise(function(resolve){\n",
    "\t\tif (GlobalObj.HLYYLayOut==\"OEOrd\"){\n",
    "\t\t\tPassFuncs.DHCFuncs.DHCXHZY(OrderItemStr,resolve);\n",
    "\t\t}else{\n",
    "\t\t\tPassFuncs.DHCFuncs.DHCXHZYCM(OrderItemStr,resolve);\n",
    "\t\t}\n",
    "\t}).then(function(HLYYInfo){\n",
    "\t\tif ((HLYYInfo==\"\")||(HLYYInfo==null)||(typeof HLYYInfo==\"undefined\")) {\n",
    "\t\t\t//不需要调用合理用药或者程序异常\n",
    "\t\t\tCallBackFunc(true);\n",
    "\t\t\treturn;\n",
    "\t\t}\n",
    "\t\tif (HLYYInfo.passFlag==\"1\") {\n",
    "\t\t\tGlobalObj.DHCHLYYInfo=HLYYInfo.drugUniqueStr;\n",
    "\t\t\tGlobalObj.hlyy_pdss_chkInfo=HLYYInfo.MsgID+'&'+HLYYInfo.manLev+'&'+HLYYInfo.passFlag+'&'+HLYYInfo.manLevel;\n",
    "\t\t\tCallBackFunc(true);\n",
    "\t\t}else if (HLYYInfo.passFlag==\"0\"){\n",
    "\t\t\tGlobalObj.DHCHLYYInfo=HLYYInfo.drugUniqueStr;\n",
    "\t\t\tGlobalObj.hlyy_pdss_chkInfo=HLYYInfo.MsgID+'&'+HLYYInfo.manLev+'&'+HLYYInfo.passFlag+'&'+HLYYInfo.manLevel;\n",
    "\t\t\tCallBackFunc(false);\n",
    "\t\t}else{\n",
    "\t\t\t$.messager.confirm('确认对话框',\"合理用药干预系统异常:\"+\"<br>\"+HLYYArr[1]+\"<br>\"+\"请联系信息科!若确认审核医嘱请点击【确定】\", function(r){\n",
    "\t\t\t\tif (r) {\n",
    "\t\t\t\t\tGlobalObj.DHCHLYYInfo=HLYYInfo.drugUniqueStr;\n",
    "\t\t\t\t\tGlobalObj.hlyy_pdss_chkInfo=HLYYInfo.MsgID+'&'+HLYYInfo.manLev+'&'+HLYYInfo.passFlag+'&'+HLYYInfo.manLevel;\n",
    "\t\t\t\t\tCallBackFunc(true);\n",
    "\t\t\t\t}else{\n",
    "\t\t\t\t\tCallBackFunc(false);\n",
    "\t\t\t\t}\n",
    "\t\t\t});\n",
    "\t\t}\n",
    "\t\treturn;\n",
    "\t});\n",
    "}\n",
    "```"
   ]
  },
  {
   "cell_type": "markdown",
   "metadata": {},
   "source": [
    "## 检查申请单发送\n",
    "w ##class(web.DHCENS.STBLL.RIS.METHOD.GetRisAppInfo).SendAppBillByStudyNoNew(\"21||3^@11\")"
   ]
  },
  {
   "cell_type": "markdown",
   "metadata": {},
   "source": [
    "## CDSS\n",
    "基础平台\n",
    "临床决策支持服务配置"
   ]
  },
  {
   "cell_type": "code",
   "execution_count": null,
   "metadata": {
    "vscode": {
     "languageId": "plaintext"
    }
   },
   "outputs": [],
   "source": [
    "1.一键 同步 ECP功能 JS 同步\n",
    "w ##class(DHCCSYS.ScriptsOnMultiServer).Execute()"
   ]
  },
  {
   "cell_type": "markdown",
   "metadata": {},
   "source": [
    "if Doctor'=\"\" {\n",
    "    &sql(SELECT SSUSR_RowId into :user FROM SQLUser.ss_user WHERE SSUSR_CareProv_DR = :Doctor)\n",
    "    s user = ##class(CA.BICAService).GetImageByUserID(user)\n",
    "    s PAAdmDoc = $s(user'=\"\":\"data:image/jpg;base64,\"_user, 1:PAAdmDoc)\n",
    "}"
   ]
  },
  {
   "cell_type": "markdown",
   "metadata": {},
   "source": [
    "## 消息对接流程\n",
    "[link](https://note.youdao.com/ynoteshare/index.html?id=bd6253fcfee61cbb950669ee3a4483d6&type=note&_time=1719991051581)"
   ]
  },
  {
   "cell_type": "markdown",
   "metadata": {},
   "source": [
    "## 发送消息\n",
    "\n",
    "```objectscript\n",
    "/// w ##class(websys.DHCMessageInterface).SendTest()\n",
    "/// websys.DHCMessageBiz\n",
    "ClassMethod SendTest()\n",
    "{\n",
    "}\n",
    "\n",
    "/// @param: Context   信息文本内容  可为空,通过入参生成相关内容\n",
    "/// @param: ActionTypeCode  信息的动作类型代码  websys.DHCMessageActionType表的code字段值\n",
    "/// @param: FormUserRowId   信息发出人    SS_User->SSUSR_rowid, 如果消息发出人不在his人员表中,可直接传用户姓名。格式:\"^Name\"\n",
    "/// @param: EpisodeId   病人就诊Id    PA_Adm->PAADM_RowId\n",
    "/// @param: OrdItemId   医嘱明细表Id        OE_OrdItem->OEORI_RowId\n",
    "/// @param: ToUserRowId     信息发给人   SS_User->SSUSR_rowid  强制把消息发给该用户\n",
    "/// @param: OtherInfoJson   其它业务相关对象    Json格式,一些其它信息,如link等{\"link\":\"x.csp?type=a&id=1\"}\n",
    "/// 如果成功返回值大于0\n",
    "ClassMethod Send(Context, ActionTypeCode, FromUserRowId, EpisodeId = \"\", OrdItemId = \"\", ToUserRowId As %String(MAXLEN=30000) = \"\", OtherInfoJson As %String(MAXLEN=30000) = \"\", ToLocRowId As %String(MAXLEN=30000) = \"\", EffectiveDays = \"\", CreateLoc = \"\")\n",
    "{\n",
    "}\n",
    "// <https://note.youdao.com/s/CE3m1e3o>\n",
    "```"
   ]
  }
 ],
 "metadata": {
  "language_info": {
   "name": "python"
  }
 },
 "nbformat": 4,
 "nbformat_minor": 2
}
