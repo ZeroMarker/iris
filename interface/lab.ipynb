{
 "cells": [
  {
   "cell_type": "markdown",
   "id": "ff979b6d",
   "metadata": {},
   "source": [
    "\n",
    "/// Creator：   bianshuai\n",
    "/// CreatDate： 2016-08-15\n",
    "/// Descript:   获取检查申请单打印数据\n",
    "/// Table：     DHC_AppReport  \n",
    "/// Input：\t    ExaReqID：申请单ID、ExaReqNo：申请单号   \n",
    "/// Return：    申请单json串\n",
    "/// w ##Class(web.DHCAPPPrintCom).GetExaReqPrintData(\"344615\",\"\")"
   ]
  }
 ],
 "metadata": {
  "language_info": {
   "name": "python"
  }
 },
 "nbformat": 4,
 "nbformat_minor": 5
}
