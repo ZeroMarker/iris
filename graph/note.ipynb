{
 "cells": [
  {
   "cell_type": "markdown",
   "metadata": {},
   "source": [
    "## triage\n",
    "```mermaid\n",
    "flowchart TB\n",
    "    A[Start] --> B{ Check A }\n",
    "    B -- Yes --> C[Process A]\n",
    "    B -- No  --> D[Process B]\n",
    "    C --> E[End]\n",
    "    D --> E\n",
    "    subgraph swimlane1\n",
    "        direction LR\n",
    "        B\n",
    "        C\n",
    "    end\n",
    "    subgraph swimlane2\n",
    "        direction RL\n",
    "        D\n",
    "    end\n",
    "```"
   ]
  }
 ],
 "metadata": {
  "language_info": {
   "name": "python"
  }
 },
 "nbformat": 4,
 "nbformat_minor": 2
}
